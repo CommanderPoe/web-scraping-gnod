{
 "cells": [
  {
   "cell_type": "code",
   "execution_count": 1,
   "metadata": {},
   "outputs": [],
   "source": [
    "# Priting over 1 line of code within the same cell\n",
    "\n",
    "from IPython.core.interactiveshell import InteractiveShell\n",
    "InteractiveShell.ast_node_interactivity = \"all\""
   ]
  },
  {
   "cell_type": "code",
   "execution_count": 128,
   "metadata": {},
   "outputs": [],
   "source": [
    "# LIBRARIES\n",
    "\n",
    "# Must\n",
    "import os\n",
    "import pandas as pd\n",
    "import numpy as np\n",
    "#import datetime as dt\n",
    "\n",
    "# Visualization\n",
    "#import missingno\n",
    "import matplotlib.pyplot as plt\n",
    "#import seaborn as sns\n",
    "\n",
    "# Soup\n",
    "from bs4 import BeautifulSoup\n",
    "import requests\n",
    "\n",
    "# REGEX\n",
    "import re\n",
    "\n",
    "# Math\n",
    "#import math\n",
    "#from scipy import stats\n",
    "#from scipy.stats import shapiro\n",
    "#import scipy.stats as st\n",
    "\n",
    "# Machine Learning\n",
    "#from sklearn.model_selection import train_test_split\n",
    "#from sklearn.preprocessing import MinMaxScaler\n",
    "#from sklearn.preprocessing import PowerTransformer\n",
    "from sklearn.preprocessing import StandardScaler\n",
    "#from sklearn.preprocessing import OneHotEncoder\n",
    "#from sklearn.preprocessing import LabelEncoder\n",
    "#from sklearn import linear_model\n",
    "#from sklearn.metrics import r2_score\n",
    "#from sklearn.metrics import mean_squared_error\n",
    "#from sklearn.neighbors import KNeighborsRegressor\n",
    "#from sklearn.linear_model import LogisticRegression\n",
    "#from sklearn.neural_network import MLPRegressor\n",
    "#from sklearn.datasets import make_regression\n",
    "#from sklearn.ensemble import RandomForestRegressor\n",
    "#from sklearn.ensemble import GradientBoostingRegressor\n",
    "#from sklearn.metrics import precision_score\n",
    "#from sklearn.metrics import recall_score\n",
    "#from sklearn.metrics import f1_score\n",
    "from sklearn.cluster import KMeans\n",
    "from sklearn import cluster, datasets\n",
    "from matplotlib.lines import Line2D\n",
    "from sklearn.metrics import silhouette_score\n",
    "\n",
    "# Extra\n",
    "import warnings\n",
    "warnings.filterwarnings('ignore')\n",
    "#import pickle\n",
    "import random\n",
    "from random import randint\n",
    "import spotipy\n",
    "from spotipy.oauth2 import SpotifyClientCredentials\n",
    "import getpass\n",
    "import timeit\n",
    "from time import sleep"
   ]
  },
  {
   "cell_type": "code",
   "execution_count": 156,
   "metadata": {},
   "outputs": [
    {
     "name": "stdout",
     "output_type": "stream",
     "text": [
      "········\n",
      "········\n"
     ]
    }
   ],
   "source": [
    "# storing client_id and secret\n",
    "client_id = getpass.getpass()\n",
    "client_secret= getpass.getpass()"
   ]
  },
  {
   "cell_type": "code",
   "execution_count": 157,
   "metadata": {},
   "outputs": [],
   "source": [
    "# calling the spotify auth\n",
    "sp = spotipy.Spotify(auth_manager=SpotifyClientCredentials(client_id,\n",
    "                                                           client_secret))"
   ]
  },
  {
   "cell_type": "code",
   "execution_count": null,
   "metadata": {},
   "outputs": [],
   "source": [
    "# TOP 100 billboard\n",
    "url= 'https://www.billboard.com/charts/hot-100'"
   ]
  },
  {
   "cell_type": "code",
   "execution_count": null,
   "metadata": {},
   "outputs": [],
   "source": [
    "# response\n",
    "response = requests.get(url)\n",
    "response.status_code"
   ]
  },
  {
   "cell_type": "code",
   "execution_count": null,
   "metadata": {},
   "outputs": [],
   "source": [
    "soup = BeautifulSoup(response.content, \"html.parser\")"
   ]
  },
  {
   "cell_type": "markdown",
   "metadata": {},
   "source": [
    "### Scrape the current top 100 songs and their respective artists, and put the information into a pandas dataframe."
   ]
  },
  {
   "cell_type": "raw",
   "metadata": {},
   "source": [
    "# Empty lists to store songs and artists from the website\n",
    "song_100 = []\n",
    "artists_100 = []"
   ]
  },
  {
   "cell_type": "raw",
   "metadata": {},
   "source": [
    "# Storing raw data of artist and songs\n",
    "raw_songs_100= soup.select('.chart-element__information__song')\n",
    "raw_artist_100= soup.select('.chart-element__information__artist') "
   ]
  },
  {
   "cell_type": "raw",
   "metadata": {},
   "source": [
    "# checking the data\n",
    "raw_artist_100[0]\n",
    "\n",
    "raw_songs_100[0].get_text()"
   ]
  },
  {
   "cell_type": "raw",
   "metadata": {},
   "source": [
    "# looping thru both variables and storing the text \n",
    "for i, y in zip(raw_songs_100, raw_artist_100):\n",
    "    song_100.append(i.get_text())\n",
    "    artists_100.append(y.get_text())"
   ]
  },
  {
   "cell_type": "raw",
   "metadata": {},
   "source": [
    "len(song_100)\n",
    "len(artists_100)"
   ]
  },
  {
   "cell_type": "raw",
   "metadata": {},
   "source": [
    "# Converting to df\n",
    "top_songs_100= pd.DataFrame({'artist': artists_100, 'song': song_100})"
   ]
  },
  {
   "cell_type": "markdown",
   "metadata": {},
   "source": [
    "### All up to this point was focused on scraping a webpage to extract the top 100 songs"
   ]
  },
  {
   "cell_type": "raw",
   "metadata": {},
   "source": [
    "# Creating final df for top_100 songs on billboard, (df wont be updated)\n",
    "top_songs_100.to_csv('./minted_dfs/top_songs.csv', index= False)"
   ]
  },
  {
   "cell_type": "code",
   "execution_count": 15,
   "metadata": {},
   "outputs": [],
   "source": [
    "top_songs_100= pd.read_csv('./minted_dfs/top_songs.csv')"
   ]
  },
  {
   "cell_type": "code",
   "execution_count": 16,
   "metadata": {},
   "outputs": [
    {
     "data": {
      "text/html": [
       "<div>\n",
       "<style scoped>\n",
       "    .dataframe tbody tr th:only-of-type {\n",
       "        vertical-align: middle;\n",
       "    }\n",
       "\n",
       "    .dataframe tbody tr th {\n",
       "        vertical-align: top;\n",
       "    }\n",
       "\n",
       "    .dataframe thead th {\n",
       "        text-align: right;\n",
       "    }\n",
       "</style>\n",
       "<table border=\"1\" class=\"dataframe\">\n",
       "  <thead>\n",
       "    <tr style=\"text-align: right;\">\n",
       "      <th></th>\n",
       "      <th>artist</th>\n",
       "      <th>song</th>\n",
       "    </tr>\n",
       "  </thead>\n",
       "  <tbody>\n",
       "    <tr>\n",
       "      <td>0</td>\n",
       "      <td>Polo G</td>\n",
       "      <td>Rapstar</td>\n",
       "    </tr>\n",
       "    <tr>\n",
       "      <td>1</td>\n",
       "      <td>Silk Sonic (Bruno Mars &amp; Anderson .Paak)</td>\n",
       "      <td>Leave The Door Open</td>\n",
       "    </tr>\n",
       "    <tr>\n",
       "      <td>2</td>\n",
       "      <td>Justin Bieber Featuring Daniel Caesar &amp; Giveon</td>\n",
       "      <td>Peaches</td>\n",
       "    </tr>\n",
       "    <tr>\n",
       "      <td>3</td>\n",
       "      <td>Lil Nas X</td>\n",
       "      <td>Montero (Call Me By Your Name)</td>\n",
       "    </tr>\n",
       "    <tr>\n",
       "      <td>4</td>\n",
       "      <td>Dua Lipa Featuring DaBaby</td>\n",
       "      <td>Levitating</td>\n",
       "    </tr>\n",
       "  </tbody>\n",
       "</table>\n",
       "</div>"
      ],
      "text/plain": [
       "                                           artist  \\\n",
       "0                                          Polo G   \n",
       "1        Silk Sonic (Bruno Mars & Anderson .Paak)   \n",
       "2  Justin Bieber Featuring Daniel Caesar & Giveon   \n",
       "3                                       Lil Nas X   \n",
       "4                       Dua Lipa Featuring DaBaby   \n",
       "\n",
       "                             song  \n",
       "0                         Rapstar  \n",
       "1             Leave The Door Open  \n",
       "2                         Peaches  \n",
       "3  Montero (Call Me By Your Name)  \n",
       "4                      Levitating  "
      ]
     },
     "execution_count": 16,
     "metadata": {},
     "output_type": "execute_result"
    }
   ],
   "source": [
    "top_songs_100.head()"
   ]
  },
  {
   "cell_type": "code",
   "execution_count": null,
   "metadata": {},
   "outputs": [],
   "source": []
  },
  {
   "cell_type": "code",
   "execution_count": null,
   "metadata": {},
   "outputs": [],
   "source": []
  },
  {
   "cell_type": "code",
   "execution_count": null,
   "metadata": {},
   "outputs": [],
   "source": []
  },
  {
   "cell_type": "code",
   "execution_count": null,
   "metadata": {},
   "outputs": [],
   "source": []
  },
  {
   "cell_type": "code",
   "execution_count": null,
   "metadata": {},
   "outputs": [],
   "source": [
    "song_uri = playlist[\"items\"][46][\"track\"][\"uri\"]"
   ]
  },
  {
   "cell_type": "code",
   "execution_count": 244,
   "metadata": {},
   "outputs": [
    {
     "data": {
      "text/plain": [
       "[{'danceability': 0.412,\n",
       "  'energy': 0.966,\n",
       "  'key': 10,\n",
       "  'loudness': -3.007,\n",
       "  'mode': 0,\n",
       "  'speechiness': 0.0383,\n",
       "  'acousticness': 0.000502,\n",
       "  'instrumentalness': 0,\n",
       "  'liveness': 0.225,\n",
       "  'valence': 0.735,\n",
       "  'tempo': 143.09,\n",
       "  'type': 'audio_features',\n",
       "  'id': '3Vz4JalmlS6UuoH7cUtEDn',\n",
       "  'uri': 'spotify:track:3Vz4JalmlS6UuoH7cUtEDn',\n",
       "  'track_href': 'https://api.spotify.com/v1/tracks/3Vz4JalmlS6UuoH7cUtEDn',\n",
       "  'analysis_url': 'https://api.spotify.com/v1/audio-analysis/3Vz4JalmlS6UuoH7cUtEDn',\n",
       "  'duration_ms': 200680,\n",
       "  'time_signature': 4}]"
      ]
     },
     "execution_count": 244,
     "metadata": {},
     "output_type": "execute_result"
    }
   ],
   "source": [
    "sp.audio_features('3Vz4JalmlS6UuoH7cUtEDn')"
   ]
  },
  {
   "cell_type": "code",
   "execution_count": 247,
   "metadata": {},
   "outputs": [
    {
     "data": {
      "text/plain": [
       "'spotify:track:54hjFPLAWMurvAqlh0fifV'"
      ]
     },
     "execution_count": 247,
     "metadata": {},
     "output_type": "execute_result"
    }
   ],
   "source": [
    "sp.search(q='mandatory suicide', limit= 1)['tracks']['items'][0]['uri']"
   ]
  },
  {
   "cell_type": "code",
   "execution_count": null,
   "metadata": {},
   "outputs": [],
   "source": [
    "Mandatory Suicide\tSouth Of Heaven\t54hjFPLAWMurvAqlh0fifV"
   ]
  },
  {
   "cell_type": "code",
   "execution_count": null,
   "metadata": {},
   "outputs": [],
   "source": []
  },
  {
   "cell_type": "code",
   "execution_count": null,
   "metadata": {},
   "outputs": [],
   "source": []
  },
  {
   "cell_type": "code",
   "execution_count": 261,
   "metadata": {},
   "outputs": [
    {
     "name": "stdout",
     "output_type": "stream",
     "text": [
      "Input your new songmandatory suicide\n"
     ]
    }
   ],
   "source": [
    "new_song_test= (input('Input your new song'))            "
   ]
  },
  {
   "cell_type": "code",
   "execution_count": 267,
   "metadata": {},
   "outputs": [
    {
     "data": {
      "text/plain": [
       "'54hjFPLAWMurvAqlh0fifV'"
      ]
     },
     "execution_count": 267,
     "metadata": {},
     "output_type": "execute_result"
    }
   ],
   "source": [
    "song_uri = sp.search(q= new_song_test, limit= 1)['tracks']['items'][0]['uri']\n",
    "song_uri= song_uri.split(':')[2]\n",
    "song_uri"
   ]
  },
  {
   "cell_type": "code",
   "execution_count": 268,
   "metadata": {},
   "outputs": [
    {
     "data": {
      "text/plain": [
       "[{'danceability': 0.359,\n",
       "  'energy': 0.996,\n",
       "  'key': 8,\n",
       "  'loudness': -2.936,\n",
       "  'mode': 1,\n",
       "  'speechiness': 0.0933,\n",
       "  'acousticness': 0.000668,\n",
       "  'instrumentalness': 0.618,\n",
       "  'liveness': 0.101,\n",
       "  'valence': 0.276,\n",
       "  'tempo': 148.014,\n",
       "  'type': 'audio_features',\n",
       "  'id': '54hjFPLAWMurvAqlh0fifV',\n",
       "  'uri': 'spotify:track:54hjFPLAWMurvAqlh0fifV',\n",
       "  'track_href': 'https://api.spotify.com/v1/tracks/54hjFPLAWMurvAqlh0fifV',\n",
       "  'analysis_url': 'https://api.spotify.com/v1/audio-analysis/54hjFPLAWMurvAqlh0fifV',\n",
       "  'duration_ms': 245133,\n",
       "  'time_signature': 4}]"
      ]
     },
     "execution_count": 268,
     "metadata": {},
     "output_type": "execute_result"
    }
   ],
   "source": [
    "audio_f= sp.audio_features(str(song_uri))\n",
    "audio_f"
   ]
  },
  {
   "cell_type": "code",
   "execution_count": 291,
   "metadata": {},
   "outputs": [
    {
     "data": {
      "text/html": [
       "<div>\n",
       "<style scoped>\n",
       "    .dataframe tbody tr th:only-of-type {\n",
       "        vertical-align: middle;\n",
       "    }\n",
       "\n",
       "    .dataframe tbody tr th {\n",
       "        vertical-align: top;\n",
       "    }\n",
       "\n",
       "    .dataframe thead th {\n",
       "        text-align: right;\n",
       "    }\n",
       "</style>\n",
       "<table border=\"1\" class=\"dataframe\">\n",
       "  <thead>\n",
       "    <tr style=\"text-align: right;\">\n",
       "      <th></th>\n",
       "      <th>danceability</th>\n",
       "      <th>energy</th>\n",
       "      <th>key</th>\n",
       "      <th>loudness</th>\n",
       "      <th>mode</th>\n",
       "      <th>speechiness</th>\n",
       "      <th>acousticness</th>\n",
       "      <th>instrumentalness</th>\n",
       "      <th>liveness</th>\n",
       "      <th>valence</th>\n",
       "      <th>tempo</th>\n",
       "      <th>type</th>\n",
       "      <th>id</th>\n",
       "      <th>uri</th>\n",
       "      <th>track_href</th>\n",
       "      <th>analysis_url</th>\n",
       "      <th>duration_ms</th>\n",
       "      <th>time_signature</th>\n",
       "    </tr>\n",
       "  </thead>\n",
       "  <tbody>\n",
       "    <tr>\n",
       "      <td>0</td>\n",
       "      <td>0.359</td>\n",
       "      <td>0.996</td>\n",
       "      <td>8</td>\n",
       "      <td>-2.936</td>\n",
       "      <td>1</td>\n",
       "      <td>0.0933</td>\n",
       "      <td>0.000668</td>\n",
       "      <td>0.618</td>\n",
       "      <td>0.101</td>\n",
       "      <td>0.276</td>\n",
       "      <td>148.014</td>\n",
       "      <td>audio_features</td>\n",
       "      <td>54hjFPLAWMurvAqlh0fifV</td>\n",
       "      <td>spotify:track:54hjFPLAWMurvAqlh0fifV</td>\n",
       "      <td>https://api.spotify.com/v1/tracks/54hjFPLAWMur...</td>\n",
       "      <td>https://api.spotify.com/v1/audio-analysis/54hj...</td>\n",
       "      <td>245133</td>\n",
       "      <td>4</td>\n",
       "    </tr>\n",
       "  </tbody>\n",
       "</table>\n",
       "</div>"
      ],
      "text/plain": [
       "   danceability  energy  key  loudness  mode  speechiness  acousticness  \\\n",
       "0         0.359   0.996    8    -2.936     1       0.0933      0.000668   \n",
       "\n",
       "   instrumentalness  liveness  valence    tempo            type  \\\n",
       "0             0.618     0.101    0.276  148.014  audio_features   \n",
       "\n",
       "                       id                                   uri  \\\n",
       "0  54hjFPLAWMurvAqlh0fifV  spotify:track:54hjFPLAWMurvAqlh0fifV   \n",
       "\n",
       "                                          track_href  \\\n",
       "0  https://api.spotify.com/v1/tracks/54hjFPLAWMur...   \n",
       "\n",
       "                                        analysis_url  duration_ms  \\\n",
       "0  https://api.spotify.com/v1/audio-analysis/54hj...       245133   \n",
       "\n",
       "   time_signature  \n",
       "0               4  "
      ]
     },
     "execution_count": 291,
     "metadata": {},
     "output_type": "execute_result"
    }
   ],
   "source": [
    "new_a= pd.DataFrame(audio_f)\n",
    "new_a"
   ]
  },
  {
   "cell_type": "code",
   "execution_count": 302,
   "metadata": {},
   "outputs": [
    {
     "data": {
      "text/html": [
       "<div>\n",
       "<style scoped>\n",
       "    .dataframe tbody tr th:only-of-type {\n",
       "        vertical-align: middle;\n",
       "    }\n",
       "\n",
       "    .dataframe tbody tr th {\n",
       "        vertical-align: top;\n",
       "    }\n",
       "\n",
       "    .dataframe thead th {\n",
       "        text-align: right;\n",
       "    }\n",
       "</style>\n",
       "<table border=\"1\" class=\"dataframe\">\n",
       "  <thead>\n",
       "    <tr style=\"text-align: right;\">\n",
       "      <th></th>\n",
       "      <th>danceability</th>\n",
       "      <th>energy</th>\n",
       "      <th>valence</th>\n",
       "      <th>tempo</th>\n",
       "      <th>loudness</th>\n",
       "      <th>speechiness</th>\n",
       "      <th>instrumentalness</th>\n",
       "      <th>mode</th>\n",
       "      <th>acousticness</th>\n",
       "      <th>liveness</th>\n",
       "    </tr>\n",
       "  </thead>\n",
       "  <tbody>\n",
       "    <tr>\n",
       "      <td>0</td>\n",
       "      <td>0.359</td>\n",
       "      <td>0.996</td>\n",
       "      <td>0.276</td>\n",
       "      <td>148.014</td>\n",
       "      <td>-2.936</td>\n",
       "      <td>0.0933</td>\n",
       "      <td>0.618</td>\n",
       "      <td>1</td>\n",
       "      <td>0.000668</td>\n",
       "      <td>0.101</td>\n",
       "    </tr>\n",
       "  </tbody>\n",
       "</table>\n",
       "</div>"
      ],
      "text/plain": [
       "   danceability  energy  valence    tempo  loudness  speechiness  \\\n",
       "0         0.359   0.996    0.276  148.014    -2.936       0.0933   \n",
       "\n",
       "   instrumentalness  mode  acousticness  liveness  \n",
       "0             0.618     1      0.000668     0.101  "
      ]
     },
     "execution_count": 302,
     "metadata": {},
     "output_type": "execute_result"
    }
   ],
   "source": [
    "new_a= new_a[['danceability', 'energy', 'valence', 'tempo', 'loudness', 'speechiness', 'instrumentalness', 'mode', 'acousticness', 'liveness']]\n",
    "new_a"
   ]
  },
  {
   "cell_type": "raw",
   "metadata": {},
   "source": [
    "X_prep = StandardScaler().fit_transform(audio_features)\n",
    "\n",
    "# Now, all features will have the same weight.\n",
    "pd.DataFrame(X_prep,columns=audio_features.columns).head()"
   ]
  },
  {
   "cell_type": "code",
   "execution_count": 303,
   "metadata": {},
   "outputs": [
    {
     "data": {
      "text/plain": [
       "array([[ 3.59000e-01,  9.96000e-01,  2.76000e-01,  1.48014e+02, -2.93600e+00,  9.33000e-02,  6.18000e-01,  1.00000e+00,  6.68000e-04,  1.01000e-01]])"
      ]
     },
     "execution_count": 303,
     "metadata": {},
     "output_type": "execute_result"
    }
   ],
   "source": [
    "new_b= new_a.values\n",
    "new_b"
   ]
  },
  {
   "cell_type": "code",
   "execution_count": 301,
   "metadata": {},
   "outputs": [
    {
     "data": {
      "text/plain": [
       "array([[0., 0., 0., 0., 0., 0., 0., 0., 0., 0.]])"
      ]
     },
     "execution_count": 301,
     "metadata": {},
     "output_type": "execute_result"
    }
   ],
   "source": [
    "new_c= StandardScaler().fit_transform(new_b)\n",
    "new_"
   ]
  },
  {
   "cell_type": "code",
   "execution_count": 281,
   "metadata": {},
   "outputs": [
    {
     "data": {
      "text/plain": [
       "array([[0., 0., 0., 0., 0., 0., 0., 0., 0., 0.]])"
      ]
     },
     "execution_count": 281,
     "metadata": {},
     "output_type": "execute_result"
    }
   ],
   "source": [
    "new_a"
   ]
  },
  {
   "cell_type": "code",
   "execution_count": 304,
   "metadata": {},
   "outputs": [],
   "source": [
    "clus_2 = kmeans.predict(new_b)"
   ]
  },
  {
   "cell_type": "code",
   "execution_count": 305,
   "metadata": {},
   "outputs": [
    {
     "data": {
      "text/plain": [
       "array([6], dtype=int32)"
      ]
     },
     "execution_count": 305,
     "metadata": {},
     "output_type": "execute_result"
    }
   ],
   "source": [
    "clus_2"
   ]
  },
  {
   "cell_type": "code",
   "execution_count": null,
   "metadata": {},
   "outputs": [],
   "source": [
    "df[cluster] == clus_1 \n",
    "random"
   ]
  },
  {
   "cell_type": "code",
   "execution_count": null,
   "metadata": {},
   "outputs": [],
   "source": []
  },
  {
   "cell_type": "code",
   "execution_count": null,
   "metadata": {},
   "outputs": [],
   "source": []
  },
  {
   "cell_type": "code",
   "execution_count": 150,
   "metadata": {},
   "outputs": [],
   "source": [
    "# Main function for the problem...\n",
    "\n",
    "def returning_song():\n",
    "    name_song= str(input('Name your song: '))\n",
    "    \n",
    "    random_song_100= random.choice(song_100)\n",
    "    index_rand_100= top_songs_100[top_songs_100['song']== random_song_100].index[0]\n",
    "    \n",
    "    if name_song.lower() in list(top_songs_100['song'].str.lower()):    \n",
    "        print('This is a hot song\\n',\n",
    "              '\\nYou might also like this songs: ', random_song_100, \n",
    "              '\\nBy the artist: ', top_songs_100['artist'].iloc[index_rand_100])\n",
    "    else:\n",
    "        print('Not a hot song, but i can recommend you one if you like...\\n')\n",
    "        print('Press 1 to continue or 2 to cancel')\n",
    "        \n",
    "        inp_loop= str(input())\n",
    "        if inp_loop== '1':\n",
    "            print('For the time being our recommendator only works with rock\\nSo bear in mind that the program will find the most similar and return a rock song')\n",
    "            new_song= (input('Input your new song'))\n",
    "            \n",
    "            song_uri = sp.search(q= new_song, limit= 1)['tracks']['items'][0]['uri']\n",
    "            audio_f= sp.audio_features(str(song_uri))\n",
    "            \n",
    "            \n",
    "            \n",
    "            \n",
    "            \n",
    "            \n",
    "        elif inp_loop== '2':\n",
    "            print('ok bye')\n",
    "        else:\n",
    "            print('Try again')\n",
    "    \n",
    "    "
   ]
  },
  {
   "cell_type": "code",
   "execution_count": 151,
   "metadata": {},
   "outputs": [
    {
     "name": "stdout",
     "output_type": "stream",
     "text": [
      "Name your song: f\n",
      "Not a hot song, but i can recommend you one if you like...\n",
      "\n",
      "Press 1 to continue or 2 to cancel\n",
      "1\n",
      "For the time being our recommendator only works with rock\n",
      "So bear in mind that the program will find the most similar and return a rock song\n",
      "Input your new songd\n",
      "d\n"
     ]
    }
   ],
   "source": [
    "returning_song()"
   ]
  },
  {
   "cell_type": "code",
   "execution_count": null,
   "metadata": {},
   "outputs": [],
   "source": []
  },
  {
   "cell_type": "markdown",
   "metadata": {},
   "source": [
    "### Looking for several rock playlists"
   ]
  },
  {
   "cell_type": "raw",
   "metadata": {},
   "source": [
    "spotify_list_1:playlist:2s2gfD3BjU5hN38MMe7oot\n",
    "Playlist name: Rock & Metal, the longest Playlist (Stage 18)\n",
    "\n",
    "spotify_list_2:playlist:72LA3OR3WCoXu6ZC7opyz9\n",
    "Playlist name: the longest rock playlist on spotify"
   ]
  },
  {
   "cell_type": "raw",
   "metadata": {},
   "source": [
    "playlist_1= sp.user_playlist_tracks(\"spotify\", \"2s2gfD3BjU5hN38MMe7oot\")\n",
    "playlist_2= sp.user_playlist_tracks(\"spotify\", \"72LA3OR3WCoXu6ZC7opyz9\")"
   ]
  },
  {
   "cell_type": "raw",
   "metadata": {},
   "source": [
    "playlist.keys()\n",
    "playlist['items'][0].keys()\n",
    "playlist['items'][0]['track'].keys()\n",
    "playlist['total']"
   ]
  },
  {
   "cell_type": "raw",
   "metadata": {},
   "source": [
    "playlist['items'][0]['track']['name']\n",
    "\n",
    "playlist['items'][0]['track']['artists'][0]['name']\n",
    "\n",
    "playlist['items'][0]['track']['album']['name']\n",
    "\n",
    "playlist['items'][0].keys()\n",
    "\n",
    "playlist['items'][0]['track'].keys()\n",
    "\n",
    "playlist['items'][0]['track']['album'].keys()\n",
    "\n",
    "playlist['items'][0]['track']['uri'].split(':')[2]\n",
    "\n",
    "playlist['items'][0]['track']['artists'][0]['name'] #artist name\n",
    "\n",
    "playlist['items'][0]['track']['name'] # name of the song\n",
    "\n",
    "playlist['items'][0]['track']['album']['name'] #album name\n",
    "\n",
    "[(track[\"name\"],artist[\"name\"]) for artist in track[\"artists\"]]\n",
    "\n",
    "playlist['next']\n",
    "\n",
    "next_playlist= sp.next(playlist)\n",
    "\n",
    "next_playlist['items'][0].keys()\n",
    "\n",
    "playlist['next']\n",
    "\n",
    "sp.audio_features(playlist['items'][0]['track']['uri'])"
   ]
  },
  {
   "cell_type": "raw",
   "metadata": {},
   "source": [
    "artist_name= []\n",
    "song_name= []\n",
    "album_name= []\n",
    "song_uri= []\n",
    "audio_features= []"
   ]
  },
  {
   "cell_type": "code",
   "execution_count": null,
   "metadata": {},
   "outputs": [],
   "source": [
    "# Lets run this on the playlist separated\n",
    "\n",
    "start = timeit.default_timer()\n",
    "#playlist= sp.next(playlist)\n",
    "\n",
    "while playlist_1['next']!= None:\n",
    "\n",
    "    playlist_1= sp.next(playlist_1)\n",
    "\n",
    "    for i in range(len(playlist_1['items'])):\n",
    "        artist_name.append(playlist_1['items'][i]['track']['artists'][0]['name'])\n",
    "        song_name.append(playlist_1['items'][i]['track']['name'])\n",
    "        album_name.append(playlist_1['items'][i]['track']['album']['name'])\n",
    "        song_uri.append(playlist_1['items'][i]['track']['uri'].split(':')[2])\n",
    "        audio_features.append(sp.audio_features(playlist_1['items'][i]['track']['uri']))\n",
    "\n",
    "    #sleep(2)\n",
    "\n",
    "\n",
    "\n",
    "\n",
    "rock_playlist_1= pd.DataFrame({'artist': artist_name, 'song': song_name, 'album': album_name, 'uri': song_uri})\n",
    "\n",
    "stop = timeit.default_timer()\n",
    "print ('Time to run this code (in seconds):', stop - start)"
   ]
  },
  {
   "cell_type": "raw",
   "metadata": {},
   "source": [
    "start = timeit.default_timer()\n",
    "#playlist_2= sp.next(playlist_2)\n",
    "\n",
    "while playlist_2['next']!= None:\n",
    "\n",
    "    playlist_2= sp.next(playlist_2)\n",
    "\n",
    "    for i in range(len(playlist_2['items'])):\n",
    "        artist_name.append(playlist_2['items'][i]['track']['artists'][0]['name'])\n",
    "        song_name.append(playlist_2['items'][i]['track']['name'])\n",
    "        album_name.append(playlist_2['items'][i]['track']['album']['name'])\n",
    "        song_uri.append(playlist_2['items'][i]['track']['uri'].split(':')[2])\n",
    "        audio_features.append(sp.audio_features(playlist_2['items'][i]['track']['uri']))\n",
    "\n",
    "    #sleep(2)\n",
    "\n",
    "\n",
    "\n",
    "\n",
    "rock_playlist_2= pd.DataFrame({'artist': artist_name, 'song': song_name, 'album': album_name, 'uri': song_uri})\n",
    "\n",
    "stop = timeit.default_timer()\n",
    "print ('Time to run this code (in seconds):', stop - start)"
   ]
  },
  {
   "cell_type": "raw",
   "metadata": {},
   "source": [
    "len(artist_name)\n",
    "len(song_name)\n",
    "len(album_name)\n",
    "len(song_uri)\n",
    "len(audio_features)"
   ]
  },
  {
   "cell_type": "raw",
   "metadata": {},
   "source": [
    "rock_playlist= pd.DataFrame({'artist': artist_name, 'song': song_name, 'album': album_name, 'uri': song_uri})"
   ]
  },
  {
   "cell_type": "raw",
   "metadata": {},
   "source": [
    "# how to do this easier way\n",
    "rock_audio_features= pd.DataFrame(audio_features)\n",
    "rock_audio_features= rock_audio_features[0].apply(pd.Series)"
   ]
  },
  {
   "cell_type": "raw",
   "metadata": {},
   "source": [
    "rock_playlist.to_csv('./minted_dfs/rock_playlist.csv', index= False)\n",
    "rock_audio_features.to_csv('./minted_dfs/rock_audio_features.csv', index= False)"
   ]
  },
  {
   "cell_type": "markdown",
   "metadata": {},
   "source": [
    "### Let's start using those freshly created databases"
   ]
  },
  {
   "cell_type": "code",
   "execution_count": null,
   "metadata": {},
   "outputs": [],
   "source": [
    "rock_playlist= pd.read_csv('./minted_dfs/rock_playlist.csv')\n",
    "audio_features= pd.read_csv('./minted_dfs/rock_audio_features.csv')"
   ]
  },
  {
   "cell_type": "code",
   "execution_count": 29,
   "metadata": {},
   "outputs": [
    {
     "data": {
      "text/html": [
       "<div>\n",
       "<style scoped>\n",
       "    .dataframe tbody tr th:only-of-type {\n",
       "        vertical-align: middle;\n",
       "    }\n",
       "\n",
       "    .dataframe tbody tr th {\n",
       "        vertical-align: top;\n",
       "    }\n",
       "\n",
       "    .dataframe thead th {\n",
       "        text-align: right;\n",
       "    }\n",
       "</style>\n",
       "<table border=\"1\" class=\"dataframe\">\n",
       "  <thead>\n",
       "    <tr style=\"text-align: right;\">\n",
       "      <th></th>\n",
       "      <th>artist</th>\n",
       "      <th>song</th>\n",
       "      <th>album</th>\n",
       "      <th>uri</th>\n",
       "    </tr>\n",
       "  </thead>\n",
       "  <tbody>\n",
       "    <tr>\n",
       "      <td>0</td>\n",
       "      <td>Eve 6</td>\n",
       "      <td>Inside Out</td>\n",
       "      <td>Eve 6</td>\n",
       "      <td>4GiVcDqNQI0fc0yYuRGH9m</td>\n",
       "    </tr>\n",
       "    <tr>\n",
       "      <td>1</td>\n",
       "      <td>Cage The Elephant</td>\n",
       "      <td>James Brown</td>\n",
       "      <td>Cage The Elephant</td>\n",
       "      <td>3Vz4JalmlS6UuoH7cUtEDn</td>\n",
       "    </tr>\n",
       "  </tbody>\n",
       "</table>\n",
       "</div>"
      ],
      "text/plain": [
       "              artist         song              album                     uri\n",
       "0              Eve 6   Inside Out              Eve 6  4GiVcDqNQI0fc0yYuRGH9m\n",
       "1  Cage The Elephant  James Brown  Cage The Elephant  3Vz4JalmlS6UuoH7cUtEDn"
      ]
     },
     "execution_count": 29,
     "metadata": {},
     "output_type": "execute_result"
    },
    {
     "data": {
      "text/html": [
       "<div>\n",
       "<style scoped>\n",
       "    .dataframe tbody tr th:only-of-type {\n",
       "        vertical-align: middle;\n",
       "    }\n",
       "\n",
       "    .dataframe tbody tr th {\n",
       "        vertical-align: top;\n",
       "    }\n",
       "\n",
       "    .dataframe thead th {\n",
       "        text-align: right;\n",
       "    }\n",
       "</style>\n",
       "<table border=\"1\" class=\"dataframe\">\n",
       "  <thead>\n",
       "    <tr style=\"text-align: right;\">\n",
       "      <th></th>\n",
       "      <th>danceability</th>\n",
       "      <th>energy</th>\n",
       "      <th>key</th>\n",
       "      <th>loudness</th>\n",
       "      <th>mode</th>\n",
       "      <th>speechiness</th>\n",
       "      <th>acousticness</th>\n",
       "      <th>instrumentalness</th>\n",
       "      <th>liveness</th>\n",
       "      <th>valence</th>\n",
       "      <th>tempo</th>\n",
       "      <th>type</th>\n",
       "      <th>id</th>\n",
       "      <th>uri</th>\n",
       "      <th>track_href</th>\n",
       "      <th>analysis_url</th>\n",
       "      <th>duration_ms</th>\n",
       "      <th>time_signature</th>\n",
       "    </tr>\n",
       "  </thead>\n",
       "  <tbody>\n",
       "    <tr>\n",
       "      <td>0</td>\n",
       "      <td>0.483</td>\n",
       "      <td>0.818</td>\n",
       "      <td>11</td>\n",
       "      <td>-7.666</td>\n",
       "      <td>1</td>\n",
       "      <td>0.0444</td>\n",
       "      <td>0.114000</td>\n",
       "      <td>0.0</td>\n",
       "      <td>0.367</td>\n",
       "      <td>0.691</td>\n",
       "      <td>175.668</td>\n",
       "      <td>audio_features</td>\n",
       "      <td>4GiVcDqNQI0fc0yYuRGH9m</td>\n",
       "      <td>spotify:track:4GiVcDqNQI0fc0yYuRGH9m</td>\n",
       "      <td>https://api.spotify.com/v1/tracks/4GiVcDqNQI0f...</td>\n",
       "      <td>https://api.spotify.com/v1/audio-analysis/4GiV...</td>\n",
       "      <td>219467</td>\n",
       "      <td>4</td>\n",
       "    </tr>\n",
       "    <tr>\n",
       "      <td>1</td>\n",
       "      <td>0.412</td>\n",
       "      <td>0.966</td>\n",
       "      <td>10</td>\n",
       "      <td>-3.007</td>\n",
       "      <td>0</td>\n",
       "      <td>0.0383</td>\n",
       "      <td>0.000502</td>\n",
       "      <td>0.0</td>\n",
       "      <td>0.225</td>\n",
       "      <td>0.735</td>\n",
       "      <td>143.090</td>\n",
       "      <td>audio_features</td>\n",
       "      <td>3Vz4JalmlS6UuoH7cUtEDn</td>\n",
       "      <td>spotify:track:3Vz4JalmlS6UuoH7cUtEDn</td>\n",
       "      <td>https://api.spotify.com/v1/tracks/3Vz4JalmlS6U...</td>\n",
       "      <td>https://api.spotify.com/v1/audio-analysis/3Vz4...</td>\n",
       "      <td>200680</td>\n",
       "      <td>4</td>\n",
       "    </tr>\n",
       "  </tbody>\n",
       "</table>\n",
       "</div>"
      ],
      "text/plain": [
       "   danceability  energy  key  loudness  mode  speechiness  acousticness  \\\n",
       "0         0.483   0.818   11    -7.666     1       0.0444      0.114000   \n",
       "1         0.412   0.966   10    -3.007     0       0.0383      0.000502   \n",
       "\n",
       "   instrumentalness  liveness  valence    tempo            type  \\\n",
       "0               0.0     0.367    0.691  175.668  audio_features   \n",
       "1               0.0     0.225    0.735  143.090  audio_features   \n",
       "\n",
       "                       id                                   uri  \\\n",
       "0  4GiVcDqNQI0fc0yYuRGH9m  spotify:track:4GiVcDqNQI0fc0yYuRGH9m   \n",
       "1  3Vz4JalmlS6UuoH7cUtEDn  spotify:track:3Vz4JalmlS6UuoH7cUtEDn   \n",
       "\n",
       "                                          track_href  \\\n",
       "0  https://api.spotify.com/v1/tracks/4GiVcDqNQI0f...   \n",
       "1  https://api.spotify.com/v1/tracks/3Vz4JalmlS6U...   \n",
       "\n",
       "                                        analysis_url  duration_ms  \\\n",
       "0  https://api.spotify.com/v1/audio-analysis/4GiV...       219467   \n",
       "1  https://api.spotify.com/v1/audio-analysis/3Vz4...       200680   \n",
       "\n",
       "   time_signature  \n",
       "0               4  \n",
       "1               4  "
      ]
     },
     "execution_count": 29,
     "metadata": {},
     "output_type": "execute_result"
    }
   ],
   "source": [
    "rock.head(2)\n",
    "audio_features.head(2)"
   ]
  },
  {
   "cell_type": "code",
   "execution_count": 30,
   "metadata": {},
   "outputs": [],
   "source": [
    "red_audio_features= audio_features[['danceability', 'energy', 'valence', 'tempo', 'loudness', 'speechiness', 'instrumentalness', 'mode', 'acousticness', 'liveness']]"
   ]
  },
  {
   "cell_type": "code",
   "execution_count": 31,
   "metadata": {},
   "outputs": [
    {
     "data": {
      "text/html": [
       "<div>\n",
       "<style scoped>\n",
       "    .dataframe tbody tr th:only-of-type {\n",
       "        vertical-align: middle;\n",
       "    }\n",
       "\n",
       "    .dataframe tbody tr th {\n",
       "        vertical-align: top;\n",
       "    }\n",
       "\n",
       "    .dataframe thead th {\n",
       "        text-align: right;\n",
       "    }\n",
       "</style>\n",
       "<table border=\"1\" class=\"dataframe\">\n",
       "  <thead>\n",
       "    <tr style=\"text-align: right;\">\n",
       "      <th></th>\n",
       "      <th>danceability</th>\n",
       "      <th>energy</th>\n",
       "      <th>valence</th>\n",
       "      <th>tempo</th>\n",
       "      <th>loudness</th>\n",
       "      <th>speechiness</th>\n",
       "      <th>instrumentalness</th>\n",
       "      <th>mode</th>\n",
       "      <th>acousticness</th>\n",
       "      <th>liveness</th>\n",
       "    </tr>\n",
       "  </thead>\n",
       "  <tbody>\n",
       "    <tr>\n",
       "      <td>0</td>\n",
       "      <td>0.483</td>\n",
       "      <td>0.818</td>\n",
       "      <td>0.691</td>\n",
       "      <td>175.668</td>\n",
       "      <td>-7.666</td>\n",
       "      <td>0.0444</td>\n",
       "      <td>0.000</td>\n",
       "      <td>1</td>\n",
       "      <td>0.114000</td>\n",
       "      <td>0.367</td>\n",
       "    </tr>\n",
       "    <tr>\n",
       "      <td>1</td>\n",
       "      <td>0.412</td>\n",
       "      <td>0.966</td>\n",
       "      <td>0.735</td>\n",
       "      <td>143.090</td>\n",
       "      <td>-3.007</td>\n",
       "      <td>0.0383</td>\n",
       "      <td>0.000</td>\n",
       "      <td>0</td>\n",
       "      <td>0.000502</td>\n",
       "      <td>0.225</td>\n",
       "    </tr>\n",
       "    <tr>\n",
       "      <td>2</td>\n",
       "      <td>0.359</td>\n",
       "      <td>0.996</td>\n",
       "      <td>0.276</td>\n",
       "      <td>148.014</td>\n",
       "      <td>-2.936</td>\n",
       "      <td>0.0933</td>\n",
       "      <td>0.618</td>\n",
       "      <td>1</td>\n",
       "      <td>0.000668</td>\n",
       "      <td>0.101</td>\n",
       "    </tr>\n",
       "    <tr>\n",
       "      <td>3</td>\n",
       "      <td>0.342</td>\n",
       "      <td>0.820</td>\n",
       "      <td>0.525</td>\n",
       "      <td>119.421</td>\n",
       "      <td>-10.910</td>\n",
       "      <td>0.0460</td>\n",
       "      <td>0.749</td>\n",
       "      <td>0</td>\n",
       "      <td>0.000026</td>\n",
       "      <td>0.104</td>\n",
       "    </tr>\n",
       "    <tr>\n",
       "      <td>4</td>\n",
       "      <td>0.325</td>\n",
       "      <td>0.985</td>\n",
       "      <td>0.221</td>\n",
       "      <td>125.307</td>\n",
       "      <td>-3.941</td>\n",
       "      <td>0.1510</td>\n",
       "      <td>0.107</td>\n",
       "      <td>1</td>\n",
       "      <td>0.001770</td>\n",
       "      <td>0.351</td>\n",
       "    </tr>\n",
       "  </tbody>\n",
       "</table>\n",
       "</div>"
      ],
      "text/plain": [
       "   danceability  energy  valence    tempo  loudness  speechiness  \\\n",
       "0         0.483   0.818    0.691  175.668    -7.666       0.0444   \n",
       "1         0.412   0.966    0.735  143.090    -3.007       0.0383   \n",
       "2         0.359   0.996    0.276  148.014    -2.936       0.0933   \n",
       "3         0.342   0.820    0.525  119.421   -10.910       0.0460   \n",
       "4         0.325   0.985    0.221  125.307    -3.941       0.1510   \n",
       "\n",
       "   instrumentalness  mode  acousticness  liveness  \n",
       "0             0.000     1      0.114000     0.367  \n",
       "1             0.000     0      0.000502     0.225  \n",
       "2             0.618     1      0.000668     0.101  \n",
       "3             0.749     0      0.000026     0.104  \n",
       "4             0.107     1      0.001770     0.351  "
      ]
     },
     "execution_count": 31,
     "metadata": {},
     "output_type": "execute_result"
    }
   ],
   "source": [
    "red_audio_features.head()"
   ]
  },
  {
   "cell_type": "markdown",
   "metadata": {},
   "source": [
    "- __Danceability__: Danceability describes how suitable a track is for dancing based on a combination of musical elements including tempo, rhythm stability, beat strength, and overall regularity. A value of 0.0 is least danceable and 1.0 is most danceable.\n",
    "\n",
    "- __Energy__: Measure from 0.0 to 1.0 and represents a perceptual measure of intensity and activity. Typically, energetic tracks feel fast, loud, and noisy. For example, death metal has high energy, while a Bach prelude scores low on the scale. Perceptual features for energy include dynamic range, perceived loudness, timbre, onset rate, and general entropy.\n",
    "\n",
    "- __Valence__: A measure from 0.0 to 1.0 describing the musical positiveness conveyed by a track. Tracks with high valence sound more positive (e.g. happy, cheerful, euphoric), while tracks with low valence sound more negative (e.g. sad, depressed, angry).\n",
    "\n",
    "- __Tempo__: The overall estimated tempo of a track in beats per minute (BPM). In musical terminology, tempo is the speed or pace of a given piece and derives directly from the average beat duration.\n",
    "\n",
    "- __Loudness__: Loudness values are averaged across the entire track and are useful for comparing relative loudness of tracks. Loudness is the quality of a sound that is the primary psychological correlate of physical strength (amplitude). Values typical range between -60 and 0 db.\n",
    "\n",
    "- __Speechiness__: Detects the presence of spoken words in a track. The more exclusively speech-like the recording (e.g. talk show, audiobook, poetry), the closer to 1.0 the attribute value. Values above 0.66 describe tracks that are probably made entirely of spoken words. Values between 0.33 and 0.66 describe tracks that may contain both music and speech, either in sections or layered, including such cases as rap music.\n",
    "\n",
    "- __Instrumentalness__: Predicts whether a track contains no vocals. “Ooh” and “aah” sounds are treated as instrumental in this context. Rap or spoken word tracks are clearly “vocal”. The closer the instrumentalness value is to 1.0, the greater likelihood the track contains no vocal content. Values above 0.5 are intended to represent instrumental tracks, but confidence is higher as the value approaches 1.0.\n",
    "\n",
    "- __Mode__: Indicates the modality (major or minor) of a track, the type of scale from which its melodic content is derived. Major is represented by 1 and minor is 0.\n",
    "\n",
    "- __Acousticness__: A confidence measure from 0.0 to 1.0 of whether the track is acoustic. 1.0 represents high confidence the track is acoustic.\n",
    "\n",
    "- __Liveness__: Detects the presence of an audience in the recording. Higher liveness values represent an increased probability that the track was performed live. A value above 0.8 provides a strong likelihood that the track is live."
   ]
  },
  {
   "cell_type": "code",
   "execution_count": 260,
   "metadata": {},
   "outputs": [
    {
     "data": {
      "text/html": [
       "<div>\n",
       "<style scoped>\n",
       "    .dataframe tbody tr th:only-of-type {\n",
       "        vertical-align: middle;\n",
       "    }\n",
       "\n",
       "    .dataframe tbody tr th {\n",
       "        vertical-align: top;\n",
       "    }\n",
       "\n",
       "    .dataframe thead th {\n",
       "        text-align: right;\n",
       "    }\n",
       "</style>\n",
       "<table border=\"1\" class=\"dataframe\">\n",
       "  <thead>\n",
       "    <tr style=\"text-align: right;\">\n",
       "      <th></th>\n",
       "      <th>artist</th>\n",
       "      <th>song</th>\n",
       "      <th>album</th>\n",
       "      <th>uri</th>\n",
       "      <th>danceability</th>\n",
       "      <th>energy</th>\n",
       "      <th>valence</th>\n",
       "      <th>tempo</th>\n",
       "      <th>loudness</th>\n",
       "      <th>speechiness</th>\n",
       "      <th>instrumentalness</th>\n",
       "      <th>mode</th>\n",
       "      <th>acousticness</th>\n",
       "      <th>liveness</th>\n",
       "    </tr>\n",
       "  </thead>\n",
       "  <tbody>\n",
       "    <tr>\n",
       "      <td>0</td>\n",
       "      <td>Eve 6</td>\n",
       "      <td>Inside Out</td>\n",
       "      <td>Eve 6</td>\n",
       "      <td>4GiVcDqNQI0fc0yYuRGH9m</td>\n",
       "      <td>0.483</td>\n",
       "      <td>0.818</td>\n",
       "      <td>0.691</td>\n",
       "      <td>175.668</td>\n",
       "      <td>-7.666</td>\n",
       "      <td>0.0444</td>\n",
       "      <td>0.000</td>\n",
       "      <td>1</td>\n",
       "      <td>0.114000</td>\n",
       "      <td>0.367</td>\n",
       "    </tr>\n",
       "    <tr>\n",
       "      <td>1</td>\n",
       "      <td>Cage The Elephant</td>\n",
       "      <td>James Brown</td>\n",
       "      <td>Cage The Elephant</td>\n",
       "      <td>3Vz4JalmlS6UuoH7cUtEDn</td>\n",
       "      <td>0.412</td>\n",
       "      <td>0.966</td>\n",
       "      <td>0.735</td>\n",
       "      <td>143.090</td>\n",
       "      <td>-3.007</td>\n",
       "      <td>0.0383</td>\n",
       "      <td>0.000</td>\n",
       "      <td>0</td>\n",
       "      <td>0.000502</td>\n",
       "      <td>0.225</td>\n",
       "    </tr>\n",
       "    <tr>\n",
       "      <td>2</td>\n",
       "      <td>Slayer</td>\n",
       "      <td>Mandatory Suicide</td>\n",
       "      <td>South Of Heaven</td>\n",
       "      <td>54hjFPLAWMurvAqlh0fifV</td>\n",
       "      <td>0.359</td>\n",
       "      <td>0.996</td>\n",
       "      <td>0.276</td>\n",
       "      <td>148.014</td>\n",
       "      <td>-2.936</td>\n",
       "      <td>0.0933</td>\n",
       "      <td>0.618</td>\n",
       "      <td>1</td>\n",
       "      <td>0.000668</td>\n",
       "      <td>0.101</td>\n",
       "    </tr>\n",
       "    <tr>\n",
       "      <td>3</td>\n",
       "      <td>Pantera</td>\n",
       "      <td>Shattered</td>\n",
       "      <td>The Pantera Collection</td>\n",
       "      <td>1hTmOdxJWP3i3i2tYEHxtK</td>\n",
       "      <td>0.342</td>\n",
       "      <td>0.820</td>\n",
       "      <td>0.525</td>\n",
       "      <td>119.421</td>\n",
       "      <td>-10.910</td>\n",
       "      <td>0.0460</td>\n",
       "      <td>0.749</td>\n",
       "      <td>0</td>\n",
       "      <td>0.000026</td>\n",
       "      <td>0.104</td>\n",
       "    </tr>\n",
       "    <tr>\n",
       "      <td>4</td>\n",
       "      <td>Megadeth</td>\n",
       "      <td>Holy Wars...The Punishment Due - Remastered 2004</td>\n",
       "      <td>Rust In Peace</td>\n",
       "      <td>5LyRtsQLhcXmy50VXhQXXS</td>\n",
       "      <td>0.325</td>\n",
       "      <td>0.985</td>\n",
       "      <td>0.221</td>\n",
       "      <td>125.307</td>\n",
       "      <td>-3.941</td>\n",
       "      <td>0.1510</td>\n",
       "      <td>0.107</td>\n",
       "      <td>1</td>\n",
       "      <td>0.001770</td>\n",
       "      <td>0.351</td>\n",
       "    </tr>\n",
       "  </tbody>\n",
       "</table>\n",
       "</div>"
      ],
      "text/plain": [
       "              artist                                              song  \\\n",
       "0              Eve 6                                        Inside Out   \n",
       "1  Cage The Elephant                                       James Brown   \n",
       "2             Slayer                                 Mandatory Suicide   \n",
       "3            Pantera                                         Shattered   \n",
       "4           Megadeth  Holy Wars...The Punishment Due - Remastered 2004   \n",
       "\n",
       "                    album                     uri  danceability  energy  \\\n",
       "0                   Eve 6  4GiVcDqNQI0fc0yYuRGH9m         0.483   0.818   \n",
       "1       Cage The Elephant  3Vz4JalmlS6UuoH7cUtEDn         0.412   0.966   \n",
       "2         South Of Heaven  54hjFPLAWMurvAqlh0fifV         0.359   0.996   \n",
       "3  The Pantera Collection  1hTmOdxJWP3i3i2tYEHxtK         0.342   0.820   \n",
       "4           Rust In Peace  5LyRtsQLhcXmy50VXhQXXS         0.325   0.985   \n",
       "\n",
       "   valence    tempo  loudness  speechiness  instrumentalness  mode  \\\n",
       "0    0.691  175.668    -7.666       0.0444             0.000     1   \n",
       "1    0.735  143.090    -3.007       0.0383             0.000     0   \n",
       "2    0.276  148.014    -2.936       0.0933             0.618     1   \n",
       "3    0.525  119.421   -10.910       0.0460             0.749     0   \n",
       "4    0.221  125.307    -3.941       0.1510             0.107     1   \n",
       "\n",
       "   acousticness  liveness  \n",
       "0      0.114000     0.367  \n",
       "1      0.000502     0.225  \n",
       "2      0.000668     0.101  \n",
       "3      0.000026     0.104  \n",
       "4      0.001770     0.351  "
      ]
     },
     "execution_count": 260,
     "metadata": {},
     "output_type": "execute_result"
    }
   ],
   "source": [
    "rock_gen= rock.join(red_audio_features)\n",
    "rock_gen.head()"
   ]
  },
  {
   "cell_type": "code",
   "execution_count": 42,
   "metadata": {},
   "outputs": [
    {
     "data": {
      "text/html": [
       "<div>\n",
       "<style scoped>\n",
       "    .dataframe tbody tr th:only-of-type {\n",
       "        vertical-align: middle;\n",
       "    }\n",
       "\n",
       "    .dataframe tbody tr th {\n",
       "        vertical-align: top;\n",
       "    }\n",
       "\n",
       "    .dataframe thead th {\n",
       "        text-align: right;\n",
       "    }\n",
       "</style>\n",
       "<table border=\"1\" class=\"dataframe\">\n",
       "  <thead>\n",
       "    <tr style=\"text-align: right;\">\n",
       "      <th></th>\n",
       "      <th>artist</th>\n",
       "      <th>song</th>\n",
       "      <th>album</th>\n",
       "      <th>uri</th>\n",
       "      <th>danceability</th>\n",
       "      <th>energy</th>\n",
       "      <th>valence</th>\n",
       "      <th>tempo</th>\n",
       "      <th>loudness</th>\n",
       "      <th>speechiness</th>\n",
       "      <th>instrumentalness</th>\n",
       "      <th>mode</th>\n",
       "      <th>acousticness</th>\n",
       "      <th>liveness</th>\n",
       "    </tr>\n",
       "  </thead>\n",
       "  <tbody>\n",
       "    <tr>\n",
       "      <td>0</td>\n",
       "      <td>Eve 6</td>\n",
       "      <td>Inside Out</td>\n",
       "      <td>Eve 6</td>\n",
       "      <td>4GiVcDqNQI0fc0yYuRGH9m</td>\n",
       "      <td>0.483</td>\n",
       "      <td>0.818</td>\n",
       "      <td>0.691</td>\n",
       "      <td>175.668</td>\n",
       "      <td>-7.666</td>\n",
       "      <td>0.0444</td>\n",
       "      <td>0.000</td>\n",
       "      <td>1</td>\n",
       "      <td>0.114000</td>\n",
       "      <td>0.367</td>\n",
       "    </tr>\n",
       "    <tr>\n",
       "      <td>1</td>\n",
       "      <td>Cage The Elephant</td>\n",
       "      <td>James Brown</td>\n",
       "      <td>Cage The Elephant</td>\n",
       "      <td>3Vz4JalmlS6UuoH7cUtEDn</td>\n",
       "      <td>0.412</td>\n",
       "      <td>0.966</td>\n",
       "      <td>0.735</td>\n",
       "      <td>143.090</td>\n",
       "      <td>-3.007</td>\n",
       "      <td>0.0383</td>\n",
       "      <td>0.000</td>\n",
       "      <td>0</td>\n",
       "      <td>0.000502</td>\n",
       "      <td>0.225</td>\n",
       "    </tr>\n",
       "    <tr>\n",
       "      <td>2</td>\n",
       "      <td>Slayer</td>\n",
       "      <td>Mandatory Suicide</td>\n",
       "      <td>South Of Heaven</td>\n",
       "      <td>54hjFPLAWMurvAqlh0fifV</td>\n",
       "      <td>0.359</td>\n",
       "      <td>0.996</td>\n",
       "      <td>0.276</td>\n",
       "      <td>148.014</td>\n",
       "      <td>-2.936</td>\n",
       "      <td>0.0933</td>\n",
       "      <td>0.618</td>\n",
       "      <td>1</td>\n",
       "      <td>0.000668</td>\n",
       "      <td>0.101</td>\n",
       "    </tr>\n",
       "    <tr>\n",
       "      <td>3</td>\n",
       "      <td>Pantera</td>\n",
       "      <td>Shattered</td>\n",
       "      <td>The Pantera Collection</td>\n",
       "      <td>1hTmOdxJWP3i3i2tYEHxtK</td>\n",
       "      <td>0.342</td>\n",
       "      <td>0.820</td>\n",
       "      <td>0.525</td>\n",
       "      <td>119.421</td>\n",
       "      <td>-10.910</td>\n",
       "      <td>0.0460</td>\n",
       "      <td>0.749</td>\n",
       "      <td>0</td>\n",
       "      <td>0.000026</td>\n",
       "      <td>0.104</td>\n",
       "    </tr>\n",
       "    <tr>\n",
       "      <td>4</td>\n",
       "      <td>Megadeth</td>\n",
       "      <td>Holy Wars...The Punishment Due - Remastered 2004</td>\n",
       "      <td>Rust In Peace</td>\n",
       "      <td>5LyRtsQLhcXmy50VXhQXXS</td>\n",
       "      <td>0.325</td>\n",
       "      <td>0.985</td>\n",
       "      <td>0.221</td>\n",
       "      <td>125.307</td>\n",
       "      <td>-3.941</td>\n",
       "      <td>0.1510</td>\n",
       "      <td>0.107</td>\n",
       "      <td>1</td>\n",
       "      <td>0.001770</td>\n",
       "      <td>0.351</td>\n",
       "    </tr>\n",
       "  </tbody>\n",
       "</table>\n",
       "</div>"
      ],
      "text/plain": [
       "              artist                                              song  \\\n",
       "0              Eve 6                                        Inside Out   \n",
       "1  Cage The Elephant                                       James Brown   \n",
       "2             Slayer                                 Mandatory Suicide   \n",
       "3            Pantera                                         Shattered   \n",
       "4           Megadeth  Holy Wars...The Punishment Due - Remastered 2004   \n",
       "\n",
       "                    album                     uri  danceability  energy  \\\n",
       "0                   Eve 6  4GiVcDqNQI0fc0yYuRGH9m         0.483   0.818   \n",
       "1       Cage The Elephant  3Vz4JalmlS6UuoH7cUtEDn         0.412   0.966   \n",
       "2         South Of Heaven  54hjFPLAWMurvAqlh0fifV         0.359   0.996   \n",
       "3  The Pantera Collection  1hTmOdxJWP3i3i2tYEHxtK         0.342   0.820   \n",
       "4           Rust In Peace  5LyRtsQLhcXmy50VXhQXXS         0.325   0.985   \n",
       "\n",
       "   valence    tempo  loudness  speechiness  instrumentalness  mode  \\\n",
       "0    0.691  175.668    -7.666       0.0444             0.000     1   \n",
       "1    0.735  143.090    -3.007       0.0383             0.000     0   \n",
       "2    0.276  148.014    -2.936       0.0933             0.618     1   \n",
       "3    0.525  119.421   -10.910       0.0460             0.749     0   \n",
       "4    0.221  125.307    -3.941       0.1510             0.107     1   \n",
       "\n",
       "   acousticness  liveness  \n",
       "0      0.114000     0.367  \n",
       "1      0.000502     0.225  \n",
       "2      0.000668     0.101  \n",
       "3      0.000026     0.104  \n",
       "4      0.001770     0.351  "
      ]
     },
     "execution_count": 42,
     "metadata": {},
     "output_type": "execute_result"
    },
    {
     "data": {
      "text/plain": [
       "6411"
      ]
     },
     "execution_count": 42,
     "metadata": {},
     "output_type": "execute_result"
    }
   ],
   "source": [
    "rock_gen.head()\n",
    "len(rock_gen)"
   ]
  },
  {
   "cell_type": "code",
   "execution_count": 88,
   "metadata": {},
   "outputs": [
    {
     "data": {
      "text/plain": [
       "artist              0\n",
       "song                0\n",
       "album               0\n",
       "uri                 0\n",
       "danceability        0\n",
       "energy              0\n",
       "valence             0\n",
       "tempo               0\n",
       "loudness            0\n",
       "speechiness         0\n",
       "instrumentalness    0\n",
       "mode                0\n",
       "acousticness        0\n",
       "liveness            0\n",
       "dtype: int64"
      ]
     },
     "execution_count": 88,
     "metadata": {},
     "output_type": "execute_result"
    },
    {
     "data": {
      "text/plain": [
       "6220"
      ]
     },
     "execution_count": 88,
     "metadata": {},
     "output_type": "execute_result"
    }
   ],
   "source": [
    "# Dealing with repeated values\n",
    "rock_gen.isnull().sum()\n",
    "len(rock_gen.drop_duplicates('uri'))"
   ]
  },
  {
   "cell_type": "raw",
   "metadata": {},
   "source": [
    "rock_gen[rock_gen[['artist', 'song', 'uri']].duplicated()== True]"
   ]
  },
  {
   "cell_type": "code",
   "execution_count": 110,
   "metadata": {},
   "outputs": [
    {
     "data": {
      "text/plain": [
       "uri                     artist          \n",
       "08ZUOlAjNu34wj283BPDJJ  John Frusciante     2.0\n",
       "0AfIsqZ4gTUg9CwwW2jLeK  Stone Sour          2.0\n",
       "0CFtlafteObzOEuJdESQkb  Aerosmith           2.0\n",
       "0DnGfA1r8pAssJCuq4ojla  Gary Moore          2.0\n",
       "0EYOdF5FCkgOJJla8DI2Md  System Of A Down    2.0\n",
       "                                           ... \n",
       "7txxAtOMwLLnQTpKeBL6bp  Danzig              2.0\n",
       "7uSsHbBFFAnkRQR1rDwP3L  Spiderbait          2.0\n",
       "7vAwjvJs8YSlHcykJu7nc0  Helloween           2.0\n",
       "7vxlM6ouhpJy5WMEZqU7vV  John Frusciante     2.0\n",
       "7xyYsOvq5Ec3P4fr6mM9fD  Muse                2.0\n",
       "Name: artist, Length: 188, dtype: float64"
      ]
     },
     "execution_count": 110,
     "metadata": {},
     "output_type": "execute_result"
    }
   ],
   "source": [
    "g= rock_gen.groupby('uri')['artist'].value_counts()\n",
    "g.where(g> 1).dropna()"
   ]
  },
  {
   "cell_type": "code",
   "execution_count": 112,
   "metadata": {},
   "outputs": [],
   "source": [
    "rock_gen.drop_duplicates(subset=[\"artist\", 'song', 'album', 'uri'],keep=\"first\", inplace= True)"
   ]
  },
  {
   "cell_type": "code",
   "execution_count": null,
   "metadata": {},
   "outputs": [],
   "source": []
  },
  {
   "cell_type": "code",
   "execution_count": null,
   "metadata": {},
   "outputs": [],
   "source": []
  },
  {
   "cell_type": "code",
   "execution_count": 117,
   "metadata": {},
   "outputs": [],
   "source": [
    "rock= rock_gen[['artist', 'song', 'album', 'uri']]\n",
    "\n",
    "audio_features= rock_gen.drop(columns= ['artist', 'song', 'album', 'uri'])"
   ]
  },
  {
   "cell_type": "code",
   "execution_count": 277,
   "metadata": {},
   "outputs": [
    {
     "data": {
      "text/html": [
       "<div>\n",
       "<style scoped>\n",
       "    .dataframe tbody tr th:only-of-type {\n",
       "        vertical-align: middle;\n",
       "    }\n",
       "\n",
       "    .dataframe tbody tr th {\n",
       "        vertical-align: top;\n",
       "    }\n",
       "\n",
       "    .dataframe thead th {\n",
       "        text-align: right;\n",
       "    }\n",
       "</style>\n",
       "<table border=\"1\" class=\"dataframe\">\n",
       "  <thead>\n",
       "    <tr style=\"text-align: right;\">\n",
       "      <th></th>\n",
       "      <th>danceability</th>\n",
       "      <th>energy</th>\n",
       "      <th>valence</th>\n",
       "      <th>tempo</th>\n",
       "      <th>loudness</th>\n",
       "      <th>speechiness</th>\n",
       "      <th>instrumentalness</th>\n",
       "      <th>mode</th>\n",
       "      <th>acousticness</th>\n",
       "      <th>liveness</th>\n",
       "      <th>clusters</th>\n",
       "    </tr>\n",
       "  </thead>\n",
       "  <tbody>\n",
       "    <tr>\n",
       "      <td>0</td>\n",
       "      <td>0.276091</td>\n",
       "      <td>0.159024</td>\n",
       "      <td>1.110800</td>\n",
       "      <td>1.612701</td>\n",
       "      <td>-0.243575</td>\n",
       "      <td>-0.438921</td>\n",
       "      <td>-0.516259</td>\n",
       "      <td>0.753877</td>\n",
       "      <td>0.069881</td>\n",
       "      <td>0.707543</td>\n",
       "      <td>0.024423</td>\n",
       "    </tr>\n",
       "    <tr>\n",
       "      <td>1</td>\n",
       "      <td>-0.219710</td>\n",
       "      <td>0.897450</td>\n",
       "      <td>1.299629</td>\n",
       "      <td>0.524763</td>\n",
       "      <td>1.100840</td>\n",
       "      <td>-0.544125</td>\n",
       "      <td>-0.516259</td>\n",
       "      <td>-1.326476</td>\n",
       "      <td>-0.495240</td>\n",
       "      <td>-0.024152</td>\n",
       "      <td>0.660038</td>\n",
       "    </tr>\n",
       "    <tr>\n",
       "      <td>2</td>\n",
       "      <td>-0.589816</td>\n",
       "      <td>1.047131</td>\n",
       "      <td>-0.670198</td>\n",
       "      <td>0.689199</td>\n",
       "      <td>1.121327</td>\n",
       "      <td>0.404435</td>\n",
       "      <td>1.828413</td>\n",
       "      <td>0.753877</td>\n",
       "      <td>-0.494413</td>\n",
       "      <td>-0.663097</td>\n",
       "      <td>1.295652</td>\n",
       "    </tr>\n",
       "    <tr>\n",
       "      <td>3</td>\n",
       "      <td>-0.708529</td>\n",
       "      <td>0.169002</td>\n",
       "      <td>0.398401</td>\n",
       "      <td>-0.265661</td>\n",
       "      <td>-1.179673</td>\n",
       "      <td>-0.411327</td>\n",
       "      <td>2.325423</td>\n",
       "      <td>-1.326476</td>\n",
       "      <td>-0.497609</td>\n",
       "      <td>-0.647639</td>\n",
       "      <td>1.295652</td>\n",
       "    </tr>\n",
       "    <tr>\n",
       "      <td>4</td>\n",
       "      <td>-0.827242</td>\n",
       "      <td>0.992248</td>\n",
       "      <td>-0.906234</td>\n",
       "      <td>-0.069098</td>\n",
       "      <td>0.831322</td>\n",
       "      <td>1.399561</td>\n",
       "      <td>-0.110305</td>\n",
       "      <td>0.753877</td>\n",
       "      <td>-0.488926</td>\n",
       "      <td>0.625098</td>\n",
       "      <td>1.931267</td>\n",
       "    </tr>\n",
       "  </tbody>\n",
       "</table>\n",
       "</div>"
      ],
      "text/plain": [
       "   danceability    energy   valence     tempo  loudness  speechiness  \\\n",
       "0      0.276091  0.159024  1.110800  1.612701 -0.243575    -0.438921   \n",
       "1     -0.219710  0.897450  1.299629  0.524763  1.100840    -0.544125   \n",
       "2     -0.589816  1.047131 -0.670198  0.689199  1.121327     0.404435   \n",
       "3     -0.708529  0.169002  0.398401 -0.265661 -1.179673    -0.411327   \n",
       "4     -0.827242  0.992248 -0.906234 -0.069098  0.831322     1.399561   \n",
       "\n",
       "   instrumentalness      mode  acousticness  liveness  clusters  \n",
       "0         -0.516259  0.753877      0.069881  0.707543  0.024423  \n",
       "1         -0.516259 -1.326476     -0.495240 -0.024152  0.660038  \n",
       "2          1.828413  0.753877     -0.494413 -0.663097  1.295652  \n",
       "3          2.325423 -1.326476     -0.497609 -0.647639  1.295652  \n",
       "4         -0.110305  0.753877     -0.488926  0.625098  1.931267  "
      ]
     },
     "execution_count": 277,
     "metadata": {},
     "output_type": "execute_result"
    },
    {
     "data": {
      "text/plain": [
       "array([[ 0.27609109,  0.15902376,  1.11079994, ...,  0.06988097,  0.70754252,  0.02442313],\n",
       "       [-0.21971037,  0.89745015,  1.29962865, ..., -0.49523981, -0.02415246,  0.66003768],\n",
       "       [-0.58981569,  1.04713117, -0.67019814, ..., -0.49441328, -0.66309738,  1.29565223],\n",
       "       ...,\n",
       "       [ 0.681112  , -1.97143616, -0.92769184, ...,  2.21588405,  0.44990344, -1.88242051],\n",
       "       [ 2.30817878, -2.51028785, -1.356848  , ...,  3.14200139, -0.59611122, -1.88242051],\n",
       "       [-0.20574414, -0.44468971, -0.40841288, ..., -0.46925874,  0.10981986,  0.02442313]])"
      ]
     },
     "execution_count": 277,
     "metadata": {},
     "output_type": "execute_result"
    }
   ],
   "source": [
    "X_prep = StandardScaler().fit_transform(audio_features)\n",
    "\n",
    "# Now, all features will have the same weight.\n",
    "pd.DataFrame(X_prep,columns=audio_features.columns).head()"
   ]
  },
  {
   "cell_type": "code",
   "execution_count": 127,
   "metadata": {},
   "outputs": [
    {
     "data": {
      "text/plain": [
       "KMeans(algorithm='auto', copy_x=True, init='k-means++', max_iter=300,\n",
       "       n_clusters=2, n_init=10, n_jobs=None, precompute_distances='auto',\n",
       "       random_state=1234, tol=0.0001, verbose=0)"
      ]
     },
     "execution_count": 127,
     "metadata": {},
     "output_type": "execute_result"
    },
    {
     "data": {
      "text/plain": [
       "KMeans(algorithm='auto', copy_x=True, init='k-means++', max_iter=300,\n",
       "       n_clusters=3, n_init=10, n_jobs=None, precompute_distances='auto',\n",
       "       random_state=1234, tol=0.0001, verbose=0)"
      ]
     },
     "execution_count": 127,
     "metadata": {},
     "output_type": "execute_result"
    },
    {
     "data": {
      "text/plain": [
       "KMeans(algorithm='auto', copy_x=True, init='k-means++', max_iter=300,\n",
       "       n_clusters=4, n_init=10, n_jobs=None, precompute_distances='auto',\n",
       "       random_state=1234, tol=0.0001, verbose=0)"
      ]
     },
     "execution_count": 127,
     "metadata": {},
     "output_type": "execute_result"
    },
    {
     "data": {
      "text/plain": [
       "KMeans(algorithm='auto', copy_x=True, init='k-means++', max_iter=300,\n",
       "       n_clusters=5, n_init=10, n_jobs=None, precompute_distances='auto',\n",
       "       random_state=1234, tol=0.0001, verbose=0)"
      ]
     },
     "execution_count": 127,
     "metadata": {},
     "output_type": "execute_result"
    },
    {
     "data": {
      "text/plain": [
       "KMeans(algorithm='auto', copy_x=True, init='k-means++', max_iter=300,\n",
       "       n_clusters=6, n_init=10, n_jobs=None, precompute_distances='auto',\n",
       "       random_state=1234, tol=0.0001, verbose=0)"
      ]
     },
     "execution_count": 127,
     "metadata": {},
     "output_type": "execute_result"
    },
    {
     "data": {
      "text/plain": [
       "KMeans(algorithm='auto', copy_x=True, init='k-means++', max_iter=300,\n",
       "       n_clusters=7, n_init=10, n_jobs=None, precompute_distances='auto',\n",
       "       random_state=1234, tol=0.0001, verbose=0)"
      ]
     },
     "execution_count": 127,
     "metadata": {},
     "output_type": "execute_result"
    },
    {
     "data": {
      "text/plain": [
       "KMeans(algorithm='auto', copy_x=True, init='k-means++', max_iter=300,\n",
       "       n_clusters=8, n_init=10, n_jobs=None, precompute_distances='auto',\n",
       "       random_state=1234, tol=0.0001, verbose=0)"
      ]
     },
     "execution_count": 127,
     "metadata": {},
     "output_type": "execute_result"
    },
    {
     "data": {
      "text/plain": [
       "KMeans(algorithm='auto', copy_x=True, init='k-means++', max_iter=300,\n",
       "       n_clusters=9, n_init=10, n_jobs=None, precompute_distances='auto',\n",
       "       random_state=1234, tol=0.0001, verbose=0)"
      ]
     },
     "execution_count": 127,
     "metadata": {},
     "output_type": "execute_result"
    },
    {
     "data": {
      "text/plain": [
       "KMeans(algorithm='auto', copy_x=True, init='k-means++', max_iter=300,\n",
       "       n_clusters=10, n_init=10, n_jobs=None, precompute_distances='auto',\n",
       "       random_state=1234, tol=0.0001, verbose=0)"
      ]
     },
     "execution_count": 127,
     "metadata": {},
     "output_type": "execute_result"
    },
    {
     "data": {
      "text/plain": [
       "KMeans(algorithm='auto', copy_x=True, init='k-means++', max_iter=300,\n",
       "       n_clusters=11, n_init=10, n_jobs=None, precompute_distances='auto',\n",
       "       random_state=1234, tol=0.0001, verbose=0)"
      ]
     },
     "execution_count": 127,
     "metadata": {},
     "output_type": "execute_result"
    },
    {
     "data": {
      "text/plain": [
       "KMeans(algorithm='auto', copy_x=True, init='k-means++', max_iter=300,\n",
       "       n_clusters=12, n_init=10, n_jobs=None, precompute_distances='auto',\n",
       "       random_state=1234, tol=0.0001, verbose=0)"
      ]
     },
     "execution_count": 127,
     "metadata": {},
     "output_type": "execute_result"
    },
    {
     "data": {
      "text/plain": [
       "KMeans(algorithm='auto', copy_x=True, init='k-means++', max_iter=300,\n",
       "       n_clusters=13, n_init=10, n_jobs=None, precompute_distances='auto',\n",
       "       random_state=1234, tol=0.0001, verbose=0)"
      ]
     },
     "execution_count": 127,
     "metadata": {},
     "output_type": "execute_result"
    },
    {
     "data": {
      "text/plain": [
       "KMeans(algorithm='auto', copy_x=True, init='k-means++', max_iter=300,\n",
       "       n_clusters=14, n_init=10, n_jobs=None, precompute_distances='auto',\n",
       "       random_state=1234, tol=0.0001, verbose=0)"
      ]
     },
     "execution_count": 127,
     "metadata": {},
     "output_type": "execute_result"
    },
    {
     "data": {
      "text/plain": [
       "KMeans(algorithm='auto', copy_x=True, init='k-means++', max_iter=300,\n",
       "       n_clusters=15, n_init=10, n_jobs=None, precompute_distances='auto',\n",
       "       random_state=1234, tol=0.0001, verbose=0)"
      ]
     },
     "execution_count": 127,
     "metadata": {},
     "output_type": "execute_result"
    },
    {
     "data": {
      "text/plain": [
       "KMeans(algorithm='auto', copy_x=True, init='k-means++', max_iter=300,\n",
       "       n_clusters=16, n_init=10, n_jobs=None, precompute_distances='auto',\n",
       "       random_state=1234, tol=0.0001, verbose=0)"
      ]
     },
     "execution_count": 127,
     "metadata": {},
     "output_type": "execute_result"
    },
    {
     "data": {
      "text/plain": [
       "KMeans(algorithm='auto', copy_x=True, init='k-means++', max_iter=300,\n",
       "       n_clusters=17, n_init=10, n_jobs=None, precompute_distances='auto',\n",
       "       random_state=1234, tol=0.0001, verbose=0)"
      ]
     },
     "execution_count": 127,
     "metadata": {},
     "output_type": "execute_result"
    },
    {
     "data": {
      "text/plain": [
       "KMeans(algorithm='auto', copy_x=True, init='k-means++', max_iter=300,\n",
       "       n_clusters=18, n_init=10, n_jobs=None, precompute_distances='auto',\n",
       "       random_state=1234, tol=0.0001, verbose=0)"
      ]
     },
     "execution_count": 127,
     "metadata": {},
     "output_type": "execute_result"
    },
    {
     "data": {
      "text/plain": [
       "KMeans(algorithm='auto', copy_x=True, init='k-means++', max_iter=300,\n",
       "       n_clusters=19, n_init=10, n_jobs=None, precompute_distances='auto',\n",
       "       random_state=1234, tol=0.0001, verbose=0)"
      ]
     },
     "execution_count": 127,
     "metadata": {},
     "output_type": "execute_result"
    },
    {
     "data": {
      "text/plain": [
       "<Figure size 1152x576 with 0 Axes>"
      ]
     },
     "execution_count": 127,
     "metadata": {},
     "output_type": "execute_result"
    },
    {
     "data": {
      "text/plain": [
       "[<matplotlib.lines.Line2D at 0x7ffbedde8f50>]"
      ]
     },
     "execution_count": 127,
     "metadata": {},
     "output_type": "execute_result"
    },
    {
     "data": {
      "text/plain": [
       "Text(0.5, 0, 'k')"
      ]
     },
     "execution_count": 127,
     "metadata": {},
     "output_type": "execute_result"
    },
    {
     "data": {
      "text/plain": [
       "Text(0, 0.5, 'inertia')"
      ]
     },
     "execution_count": 127,
     "metadata": {},
     "output_type": "execute_result"
    },
    {
     "data": {
      "text/plain": [
       "([<matplotlib.axis.XTick at 0x7ffbee15edd0>,\n",
       "  <matplotlib.axis.XTick at 0x7ffbedebb490>,\n",
       "  <matplotlib.axis.XTick at 0x7ffbedebb310>,\n",
       "  <matplotlib.axis.XTick at 0x7ffbedf8f8d0>,\n",
       "  <matplotlib.axis.XTick at 0x7ffbedf8fa50>,\n",
       "  <matplotlib.axis.XTick at 0x7ffbedf98310>,\n",
       "  <matplotlib.axis.XTick at 0x7ffbedf98890>,\n",
       "  <matplotlib.axis.XTick at 0x7ffbedf98790>,\n",
       "  <matplotlib.axis.XTick at 0x7ffbedf98350>,\n",
       "  <matplotlib.axis.XTick at 0x7ffbedf8f9d0>,\n",
       "  <matplotlib.axis.XTick at 0x7ffbedfa4590>,\n",
       "  <matplotlib.axis.XTick at 0x7ffbedfa4690>,\n",
       "  <matplotlib.axis.XTick at 0x7ffbedfaf290>,\n",
       "  <matplotlib.axis.XTick at 0x7ffbedfaf7d0>,\n",
       "  <matplotlib.axis.XTick at 0x7ffbedfaf690>,\n",
       "  <matplotlib.axis.XTick at 0x7ffbedfb9310>,\n",
       "  <matplotlib.axis.XTick at 0x7ffbedfb9890>,\n",
       "  <matplotlib.axis.XTick at 0x7ffbedfb9750>],\n",
       " <a list of 18 Text xticklabel objects>)"
      ]
     },
     "execution_count": 127,
     "metadata": {},
     "output_type": "execute_result"
    },
    {
     "data": {
      "text/plain": [
       "Text(0.5, 1.0, 'Elbow Method showing the optimal k')"
      ]
     },
     "execution_count": 127,
     "metadata": {},
     "output_type": "execute_result"
    },
    {
     "data": {
      "image/png": "[encoded data removed]",
      "text/plain": [
       "<Figure size 1152x576 with 1 Axes>"
      ]
     },
     "metadata": {
      "needs_background": "light"
     },
     "output_type": "display_data"
    }
   ],
   "source": [
    "# Choosing clusters\n",
    "K = range(2, 20)\n",
    "inertia = []\n",
    "\n",
    "for k in K:\n",
    "    kmeans = KMeans(n_clusters=k,\n",
    "                    random_state=1234)\n",
    "    kmeans.fit(X_prep)\n",
    "    inertia.append(kmeans.inertia_)\n",
    "\n",
    "\n",
    "plt.figure(figsize=(16,8))\n",
    "plt.plot(K, inertia, 'bx-')\n",
    "plt.xlabel('k')\n",
    "plt.ylabel('inertia')\n",
    "plt.xticks(np.arange(min(K), max(K)+1, 1.0))\n",
    "plt.title('Elbow Method showing the optimal k')"
   ]
  },
  {
   "cell_type": "code",
   "execution_count": 129,
   "metadata": {},
   "outputs": [
    {
     "data": {
      "text/plain": [
       "KMeans(algorithm='auto', copy_x=True, init='k-means++', max_iter=300,\n",
       "       n_clusters=2, n_init=10, n_jobs=None, precompute_distances='auto',\n",
       "       random_state=1234, tol=0.0001, verbose=0)"
      ]
     },
     "execution_count": 129,
     "metadata": {},
     "output_type": "execute_result"
    },
    {
     "data": {
      "text/plain": [
       "KMeans(algorithm='auto', copy_x=True, init='k-means++', max_iter=300,\n",
       "       n_clusters=3, n_init=10, n_jobs=None, precompute_distances='auto',\n",
       "       random_state=1234, tol=0.0001, verbose=0)"
      ]
     },
     "execution_count": 129,
     "metadata": {},
     "output_type": "execute_result"
    },
    {
     "data": {
      "text/plain": [
       "KMeans(algorithm='auto', copy_x=True, init='k-means++', max_iter=300,\n",
       "       n_clusters=4, n_init=10, n_jobs=None, precompute_distances='auto',\n",
       "       random_state=1234, tol=0.0001, verbose=0)"
      ]
     },
     "execution_count": 129,
     "metadata": {},
     "output_type": "execute_result"
    },
    {
     "data": {
      "text/plain": [
       "KMeans(algorithm='auto', copy_x=True, init='k-means++', max_iter=300,\n",
       "       n_clusters=5, n_init=10, n_jobs=None, precompute_distances='auto',\n",
       "       random_state=1234, tol=0.0001, verbose=0)"
      ]
     },
     "execution_count": 129,
     "metadata": {},
     "output_type": "execute_result"
    },
    {
     "data": {
      "text/plain": [
       "KMeans(algorithm='auto', copy_x=True, init='k-means++', max_iter=300,\n",
       "       n_clusters=6, n_init=10, n_jobs=None, precompute_distances='auto',\n",
       "       random_state=1234, tol=0.0001, verbose=0)"
      ]
     },
     "execution_count": 129,
     "metadata": {},
     "output_type": "execute_result"
    },
    {
     "data": {
      "text/plain": [
       "KMeans(algorithm='auto', copy_x=True, init='k-means++', max_iter=300,\n",
       "       n_clusters=7, n_init=10, n_jobs=None, precompute_distances='auto',\n",
       "       random_state=1234, tol=0.0001, verbose=0)"
      ]
     },
     "execution_count": 129,
     "metadata": {},
     "output_type": "execute_result"
    },
    {
     "data": {
      "text/plain": [
       "KMeans(algorithm='auto', copy_x=True, init='k-means++', max_iter=300,\n",
       "       n_clusters=8, n_init=10, n_jobs=None, precompute_distances='auto',\n",
       "       random_state=1234, tol=0.0001, verbose=0)"
      ]
     },
     "execution_count": 129,
     "metadata": {},
     "output_type": "execute_result"
    },
    {
     "data": {
      "text/plain": [
       "KMeans(algorithm='auto', copy_x=True, init='k-means++', max_iter=300,\n",
       "       n_clusters=9, n_init=10, n_jobs=None, precompute_distances='auto',\n",
       "       random_state=1234, tol=0.0001, verbose=0)"
      ]
     },
     "execution_count": 129,
     "metadata": {},
     "output_type": "execute_result"
    },
    {
     "data": {
      "text/plain": [
       "KMeans(algorithm='auto', copy_x=True, init='k-means++', max_iter=300,\n",
       "       n_clusters=10, n_init=10, n_jobs=None, precompute_distances='auto',\n",
       "       random_state=1234, tol=0.0001, verbose=0)"
      ]
     },
     "execution_count": 129,
     "metadata": {},
     "output_type": "execute_result"
    },
    {
     "data": {
      "text/plain": [
       "KMeans(algorithm='auto', copy_x=True, init='k-means++', max_iter=300,\n",
       "       n_clusters=11, n_init=10, n_jobs=None, precompute_distances='auto',\n",
       "       random_state=1234, tol=0.0001, verbose=0)"
      ]
     },
     "execution_count": 129,
     "metadata": {},
     "output_type": "execute_result"
    },
    {
     "data": {
      "text/plain": [
       "KMeans(algorithm='auto', copy_x=True, init='k-means++', max_iter=300,\n",
       "       n_clusters=12, n_init=10, n_jobs=None, precompute_distances='auto',\n",
       "       random_state=1234, tol=0.0001, verbose=0)"
      ]
     },
     "execution_count": 129,
     "metadata": {},
     "output_type": "execute_result"
    },
    {
     "data": {
      "text/plain": [
       "KMeans(algorithm='auto', copy_x=True, init='k-means++', max_iter=300,\n",
       "       n_clusters=13, n_init=10, n_jobs=None, precompute_distances='auto',\n",
       "       random_state=1234, tol=0.0001, verbose=0)"
      ]
     },
     "execution_count": 129,
     "metadata": {},
     "output_type": "execute_result"
    },
    {
     "data": {
      "text/plain": [
       "KMeans(algorithm='auto', copy_x=True, init='k-means++', max_iter=300,\n",
       "       n_clusters=14, n_init=10, n_jobs=None, precompute_distances='auto',\n",
       "       random_state=1234, tol=0.0001, verbose=0)"
      ]
     },
     "execution_count": 129,
     "metadata": {},
     "output_type": "execute_result"
    },
    {
     "data": {
      "text/plain": [
       "KMeans(algorithm='auto', copy_x=True, init='k-means++', max_iter=300,\n",
       "       n_clusters=15, n_init=10, n_jobs=None, precompute_distances='auto',\n",
       "       random_state=1234, tol=0.0001, verbose=0)"
      ]
     },
     "execution_count": 129,
     "metadata": {},
     "output_type": "execute_result"
    },
    {
     "data": {
      "text/plain": [
       "KMeans(algorithm='auto', copy_x=True, init='k-means++', max_iter=300,\n",
       "       n_clusters=16, n_init=10, n_jobs=None, precompute_distances='auto',\n",
       "       random_state=1234, tol=0.0001, verbose=0)"
      ]
     },
     "execution_count": 129,
     "metadata": {},
     "output_type": "execute_result"
    },
    {
     "data": {
      "text/plain": [
       "KMeans(algorithm='auto', copy_x=True, init='k-means++', max_iter=300,\n",
       "       n_clusters=17, n_init=10, n_jobs=None, precompute_distances='auto',\n",
       "       random_state=1234, tol=0.0001, verbose=0)"
      ]
     },
     "execution_count": 129,
     "metadata": {},
     "output_type": "execute_result"
    },
    {
     "data": {
      "text/plain": [
       "KMeans(algorithm='auto', copy_x=True, init='k-means++', max_iter=300,\n",
       "       n_clusters=18, n_init=10, n_jobs=None, precompute_distances='auto',\n",
       "       random_state=1234, tol=0.0001, verbose=0)"
      ]
     },
     "execution_count": 129,
     "metadata": {},
     "output_type": "execute_result"
    },
    {
     "data": {
      "text/plain": [
       "KMeans(algorithm='auto', copy_x=True, init='k-means++', max_iter=300,\n",
       "       n_clusters=19, n_init=10, n_jobs=None, precompute_distances='auto',\n",
       "       random_state=1234, tol=0.0001, verbose=0)"
      ]
     },
     "execution_count": 129,
     "metadata": {},
     "output_type": "execute_result"
    },
    {
     "data": {
      "text/plain": [
       "<Figure size 1152x576 with 0 Axes>"
      ]
     },
     "execution_count": 129,
     "metadata": {},
     "output_type": "execute_result"
    },
    {
     "data": {
      "text/plain": [
       "[<matplotlib.lines.Line2D at 0x7ffbedb635d0>]"
      ]
     },
     "execution_count": 129,
     "metadata": {},
     "output_type": "execute_result"
    },
    {
     "data": {
      "text/plain": [
       "Text(0.5, 0, 'k')"
      ]
     },
     "execution_count": 129,
     "metadata": {},
     "output_type": "execute_result"
    },
    {
     "data": {
      "text/plain": [
       "Text(0, 0.5, 'silhouette score')"
      ]
     },
     "execution_count": 129,
     "metadata": {},
     "output_type": "execute_result"
    },
    {
     "data": {
      "text/plain": [
       "([<matplotlib.axis.XTick at 0x7ffbedc7e450>,\n",
       "  <matplotlib.axis.XTick at 0x7ffbed99a2d0>,\n",
       "  <matplotlib.axis.XTick at 0x7ffbedc7ae50>,\n",
       "  <matplotlib.axis.XTick at 0x7ffbedd422d0>,\n",
       "  <matplotlib.axis.XTick at 0x7ffbedd42810>,\n",
       "  <matplotlib.axis.XTick at 0x7ffbedd42dd0>,\n",
       "  <matplotlib.axis.XTick at 0x7ffbedd4b390>,\n",
       "  <matplotlib.axis.XTick at 0x7ffbedd427d0>,\n",
       "  <matplotlib.axis.XTick at 0x7ffbedd4b490>,\n",
       "  <matplotlib.axis.XTick at 0x7ffbedd4b410>,\n",
       "  <matplotlib.axis.XTick at 0x7ffbedd562d0>,\n",
       "  <matplotlib.axis.XTick at 0x7ffbedd56810>,\n",
       "  <matplotlib.axis.XTick at 0x7ffbedd566d0>,\n",
       "  <matplotlib.axis.XTick at 0x7ffbedd60350>,\n",
       "  <matplotlib.axis.XTick at 0x7ffbedd608d0>,\n",
       "  <matplotlib.axis.XTick at 0x7ffbedd60790>,\n",
       "  <matplotlib.axis.XTick at 0x7ffbedd6d410>,\n",
       "  <matplotlib.axis.XTick at 0x7ffbedd609d0>],\n",
       " <a list of 18 Text xticklabel objects>)"
      ]
     },
     "execution_count": 129,
     "metadata": {},
     "output_type": "execute_result"
    },
    {
     "data": {
      "text/plain": [
       "Text(0.5, 1.0, 'Elbow Method showing the optimal k')"
      ]
     },
     "execution_count": 129,
     "metadata": {},
     "output_type": "execute_result"
    },
    {
     "data": {
      "image/png": "[encoded data removed]",
      "text/plain": [
       "<Figure size 1152x576 with 1 Axes>"
      ]
     },
     "metadata": {
      "needs_background": "light"
     },
     "output_type": "display_data"
    }
   ],
   "source": [
    "# Choosing silhouette\n",
    "K = range(2, 20)\n",
    "silhouette = []\n",
    "\n",
    "for k in K:\n",
    "    kmeans = KMeans(n_clusters=k,\n",
    "                    random_state=1234)\n",
    "    kmeans.fit(X_prep)\n",
    "    silhouette.append(silhouette_score(X_prep, kmeans.predict(X_prep)))\n",
    "\n",
    "\n",
    "plt.figure(figsize=(16,8))\n",
    "plt.plot(K, silhouette, 'bx-')\n",
    "plt.xlabel('k')\n",
    "plt.ylabel('silhouette score')\n",
    "plt.xticks(np.arange(min(K), max(K)+1, 1.0))\n",
    "plt.title('Elbow Method showing the optimal k')"
   ]
  },
  {
   "cell_type": "code",
   "execution_count": 275,
   "metadata": {},
   "outputs": [
    {
     "data": {
      "text/plain": [
       "KMeans(algorithm='auto', copy_x=True, init='k-means++', max_iter=300,\n",
       "       n_clusters=7, n_init=10, n_jobs=None, precompute_distances='auto',\n",
       "       random_state=1234, tol=0.0001, verbose=0)"
      ]
     },
     "execution_count": 275,
     "metadata": {},
     "output_type": "execute_result"
    }
   ],
   "source": [
    "kmeans = KMeans(n_clusters=7, random_state=1234)\n",
    "kmeans.fit(X_prep)"
   ]
  },
  {
   "cell_type": "code",
   "execution_count": 276,
   "metadata": {},
   "outputs": [
    {
     "data": {
      "text/plain": [
       "0     635\n",
       "1     397\n",
       "2    1200\n",
       "3    1631\n",
       "4    1372\n",
       "5     667\n",
       "6     318\n",
       "dtype: int64"
      ]
     },
     "execution_count": 276,
     "metadata": {},
     "output_type": "execute_result"
    }
   ],
   "source": [
    "# Predicting / assigning the clusters:\n",
    "clusters = kmeans.predict(X_prep)\n",
    "\n",
    "# Check the size of the clusters\n",
    "pd.Series(clusters).value_counts().sort_index()"
   ]
  },
  {
   "cell_type": "code",
   "execution_count": 241,
   "metadata": {},
   "outputs": [
    {
     "data": {
      "text/plain": [
       "array([3, 4, 5, ..., 0, 0, 3], dtype=int32)"
      ]
     },
     "execution_count": 241,
     "metadata": {},
     "output_type": "execute_result"
    }
   ],
   "source": [
    "clusters"
   ]
  },
  {
   "cell_type": "code",
   "execution_count": 139,
   "metadata": {},
   "outputs": [
    {
     "data": {
      "text/plain": [
       "numpy.ndarray"
      ]
     },
     "execution_count": 139,
     "metadata": {},
     "output_type": "execute_result"
    }
   ],
   "source": [
    "type(clusters)"
   ]
  },
  {
   "cell_type": "code",
   "execution_count": 138,
   "metadata": {},
   "outputs": [
    {
     "data": {
      "text/plain": [
       "34396.94198559536"
      ]
     },
     "execution_count": 138,
     "metadata": {},
     "output_type": "execute_result"
    }
   ],
   "source": [
    "kmeans.inertia_"
   ]
  },
  {
   "cell_type": "code",
   "execution_count": 140,
   "metadata": {},
   "outputs": [],
   "source": [
    "# Making the final table\n",
    "audio_features['clusters'] = clusters.tolist()"
   ]
  },
  {
   "cell_type": "code",
   "execution_count": 141,
   "metadata": {},
   "outputs": [
    {
     "data": {
      "text/html": [
       "<div>\n",
       "<style scoped>\n",
       "    .dataframe tbody tr th:only-of-type {\n",
       "        vertical-align: middle;\n",
       "    }\n",
       "\n",
       "    .dataframe tbody tr th {\n",
       "        vertical-align: top;\n",
       "    }\n",
       "\n",
       "    .dataframe thead th {\n",
       "        text-align: right;\n",
       "    }\n",
       "</style>\n",
       "<table border=\"1\" class=\"dataframe\">\n",
       "  <thead>\n",
       "    <tr style=\"text-align: right;\">\n",
       "      <th></th>\n",
       "      <th>danceability</th>\n",
       "      <th>energy</th>\n",
       "      <th>valence</th>\n",
       "      <th>tempo</th>\n",
       "      <th>loudness</th>\n",
       "      <th>speechiness</th>\n",
       "      <th>instrumentalness</th>\n",
       "      <th>mode</th>\n",
       "      <th>acousticness</th>\n",
       "      <th>liveness</th>\n",
       "      <th>clusters</th>\n",
       "    </tr>\n",
       "  </thead>\n",
       "  <tbody>\n",
       "    <tr>\n",
       "      <td>0</td>\n",
       "      <td>0.483</td>\n",
       "      <td>0.818</td>\n",
       "      <td>0.691</td>\n",
       "      <td>175.668</td>\n",
       "      <td>-7.666</td>\n",
       "      <td>0.0444</td>\n",
       "      <td>0.000</td>\n",
       "      <td>1</td>\n",
       "      <td>0.114000</td>\n",
       "      <td>0.367</td>\n",
       "      <td>3</td>\n",
       "    </tr>\n",
       "    <tr>\n",
       "      <td>1</td>\n",
       "      <td>0.412</td>\n",
       "      <td>0.966</td>\n",
       "      <td>0.735</td>\n",
       "      <td>143.090</td>\n",
       "      <td>-3.007</td>\n",
       "      <td>0.0383</td>\n",
       "      <td>0.000</td>\n",
       "      <td>0</td>\n",
       "      <td>0.000502</td>\n",
       "      <td>0.225</td>\n",
       "      <td>4</td>\n",
       "    </tr>\n",
       "    <tr>\n",
       "      <td>2</td>\n",
       "      <td>0.359</td>\n",
       "      <td>0.996</td>\n",
       "      <td>0.276</td>\n",
       "      <td>148.014</td>\n",
       "      <td>-2.936</td>\n",
       "      <td>0.0933</td>\n",
       "      <td>0.618</td>\n",
       "      <td>1</td>\n",
       "      <td>0.000668</td>\n",
       "      <td>0.101</td>\n",
       "      <td>5</td>\n",
       "    </tr>\n",
       "    <tr>\n",
       "      <td>3</td>\n",
       "      <td>0.342</td>\n",
       "      <td>0.820</td>\n",
       "      <td>0.525</td>\n",
       "      <td>119.421</td>\n",
       "      <td>-10.910</td>\n",
       "      <td>0.0460</td>\n",
       "      <td>0.749</td>\n",
       "      <td>0</td>\n",
       "      <td>0.000026</td>\n",
       "      <td>0.104</td>\n",
       "      <td>5</td>\n",
       "    </tr>\n",
       "    <tr>\n",
       "      <td>4</td>\n",
       "      <td>0.325</td>\n",
       "      <td>0.985</td>\n",
       "      <td>0.221</td>\n",
       "      <td>125.307</td>\n",
       "      <td>-3.941</td>\n",
       "      <td>0.1510</td>\n",
       "      <td>0.107</td>\n",
       "      <td>1</td>\n",
       "      <td>0.001770</td>\n",
       "      <td>0.351</td>\n",
       "      <td>6</td>\n",
       "    </tr>\n",
       "  </tbody>\n",
       "</table>\n",
       "</div>"
      ],
      "text/plain": [
       "   danceability  energy  valence    tempo  loudness  speechiness  \\\n",
       "0         0.483   0.818    0.691  175.668    -7.666       0.0444   \n",
       "1         0.412   0.966    0.735  143.090    -3.007       0.0383   \n",
       "2         0.359   0.996    0.276  148.014    -2.936       0.0933   \n",
       "3         0.342   0.820    0.525  119.421   -10.910       0.0460   \n",
       "4         0.325   0.985    0.221  125.307    -3.941       0.1510   \n",
       "\n",
       "   instrumentalness  mode  acousticness  liveness  clusters  \n",
       "0             0.000     1      0.114000     0.367         3  \n",
       "1             0.000     0      0.000502     0.225         4  \n",
       "2             0.618     1      0.000668     0.101         5  \n",
       "3             0.749     0      0.000026     0.104         5  \n",
       "4             0.107     1      0.001770     0.351         6  "
      ]
     },
     "execution_count": 141,
     "metadata": {},
     "output_type": "execute_result"
    }
   ],
   "source": [
    "audio_features.head()"
   ]
  },
  {
   "cell_type": "code",
   "execution_count": null,
   "metadata": {},
   "outputs": [],
   "source": []
  },
  {
   "cell_type": "code",
   "execution_count": null,
   "metadata": {},
   "outputs": [],
   "source": []
  },
  {
   "cell_type": "raw",
   "metadata": {},
   "source": [
    "rock_playlist.head(3)\n",
    "len(rock_playlist)\n",
    "rock_playlist.isnull().sum()\n",
    "len(rock_playlist.drop_duplicates())"
   ]
  },
  {
   "cell_type": "raw",
   "metadata": {},
   "source": [
    "rock_playlist[rock_playlist['artist']== 'Puddle Of Mudd']"
   ]
  },
  {
   "cell_type": "raw",
   "metadata": {},
   "source": [
    "rock_playlist[rock_playlist.duplicated()].drop_duplicates()"
   ]
  },
  {
   "cell_type": "raw",
   "metadata": {},
   "source": [
    "g=rock_playlist.groupby('uri')['artist'].value_counts()\n",
    "g.where(g>1).dropna()"
   ]
  },
  {
   "cell_type": "code",
   "execution_count": null,
   "metadata": {},
   "outputs": [],
   "source": []
  },
  {
   "cell_type": "code",
   "execution_count": null,
   "metadata": {},
   "outputs": [],
   "source": []
  },
  {
   "cell_type": "code",
   "execution_count": null,
   "metadata": {},
   "outputs": [],
   "source": []
  },
  {
   "cell_type": "code",
   "execution_count": null,
   "metadata": {},
   "outputs": [],
   "source": []
  },
  {
   "cell_type": "code",
   "execution_count": null,
   "metadata": {},
   "outputs": [],
   "source": []
  },
  {
   "cell_type": "code",
   "execution_count": null,
   "metadata": {},
   "outputs": [],
   "source": []
  },
  {
   "cell_type": "code",
   "execution_count": null,
   "metadata": {},
   "outputs": [],
   "source": []
  },
  {
   "cell_type": "code",
   "execution_count": null,
   "metadata": {},
   "outputs": [],
   "source": []
  },
  {
   "cell_type": "code",
   "execution_count": null,
   "metadata": {},
   "outputs": [],
   "source": []
  },
  {
   "cell_type": "code",
   "execution_count": null,
   "metadata": {},
   "outputs": [],
   "source": []
  },
  {
   "cell_type": "raw",
   "metadata": {},
   "source": [
    "def playlist_tracks(sp, playlists_id): \n",
    "    offset = 0\n",
    "    tracks = []\n",
    "\n",
    "    while True:\n",
    "            results = sp.playlist_tracks(playlists_id)\n",
    "            tracks += content['items']\n",
    "        \n",
    "            if results['next'] != None:\n",
    "                offset += 100\n",
    "            else:\n",
    "                break\n",
    "    \n",
    "    track_id = []\n",
    "    track_name = []\n",
    "    \n",
    "    for track in tracks:\n",
    "        track_id.append(track['track']['id'])\n",
    "        track_name.append(track['track']['name'])\n",
    "    \n",
    "# Create the final df\n",
    "    df_playlist_tracks = pd.DataFrame({\"track_id\":track_id, \"track_name\": track_name})\n",
    "    return df_playlists_tracks"
   ]
  }
 ],
 "metadata": {
  "kernelspec": {
   "display_name": "Python 3",
   "language": "python",
   "name": "python3"
  },
  "language_info": {
   "codemirror_mode": {
    "name": "ipython",
    "version": 3
   },
   "file_extension": ".py",
   "mimetype": "text/x-python",
   "name": "python",
   "nbconvert_exporter": "python",
   "pygments_lexer": "ipython3",
   "version": "3.7.4"
  }
 },
 "nbformat": 4,
 "nbformat_minor": 2
}
