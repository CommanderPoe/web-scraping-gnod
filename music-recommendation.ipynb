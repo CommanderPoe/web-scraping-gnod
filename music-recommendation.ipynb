{
 "cells": [
  {
   "cell_type": "code",
   "execution_count": 1,
   "metadata": {},
   "outputs": [],
   "source": [
    "# Priting over 1 line of code within the same cell\n",
    "\n",
    "from IPython.core.interactiveshell import InteractiveShell\n",
    "InteractiveShell.ast_node_interactivity = \"all\""
   ]
  },
  {
   "cell_type": "code",
   "execution_count": 292,
   "metadata": {},
   "outputs": [],
   "source": [
    "# LIBRARIES\n",
    "\n",
    "# Must\n",
    "import os\n",
    "import pandas as pd\n",
    "import numpy as np\n",
    "#import datetime as dt\n",
    "\n",
    "# Visualization\n",
    "#import missingno\n",
    "#import matplotlib.pyplot as plt\n",
    "#import seaborn as sns\n",
    "\n",
    "# Soup\n",
    "from bs4 import BeautifulSoup\n",
    "import requests\n",
    "\n",
    "# REGEX\n",
    "import re\n",
    "\n",
    "# Math\n",
    "#import math\n",
    "#from scipy import stats\n",
    "#from scipy.stats import shapiro\n",
    "#import scipy.stats as st\n",
    "\n",
    "# Machine Learning\n",
    "#from sklearn.model_selection import train_test_split\n",
    "#from sklearn.preprocessing import MinMaxScaler\n",
    "#from sklearn.preprocessing import PowerTransformer\n",
    "#from sklearn.preprocessing import StandardScaler\n",
    "#from sklearn.preprocessing import OneHotEncoder\n",
    "#from sklearn.preprocessing import LabelEncoder\n",
    "#from sklearn import linear_model\n",
    "#from sklearn.metrics import r2_score\n",
    "#from sklearn.metrics import mean_squared_error\n",
    "#from sklearn.neighbors import KNeighborsRegressor\n",
    "#from sklearn.linear_model import LogisticRegression\n",
    "#from sklearn.neural_network import MLPRegressor\n",
    "#from sklearn.datasets import make_regression\n",
    "#from sklearn.ensemble import RandomForestRegressor\n",
    "#from sklearn.ensemble import GradientBoostingRegressor\n",
    "#from sklearn.metrics import precision_score\n",
    "#from sklearn.metrics import recall_score\n",
    "#from sklearn.metrics import f1_score\n",
    "\n",
    "# Extra\n",
    "import warnings\n",
    "warnings.filterwarnings('ignore')\n",
    "#import pickle\n",
    "import random\n",
    "from random import randint\n",
    "import spotipy\n",
    "from spotipy.oauth2 import SpotifyClientCredentials\n",
    "import getpass\n",
    "import timeit\n",
    "from time import sleep"
   ]
  },
  {
   "cell_type": "code",
   "execution_count": 3,
   "metadata": {},
   "outputs": [
    {
     "name": "stdout",
     "output_type": "stream",
     "text": [
      "········\n",
      "········\n"
     ]
    }
   ],
   "source": [
    "client_id = getpass.getpass()\n",
    "client_secret= getpass.getpass()"
   ]
  },
  {
   "cell_type": "code",
   "execution_count": 382,
   "metadata": {},
   "outputs": [],
   "source": [
    "sp = spotipy.Spotify(auth_manager=SpotifyClientCredentials(client_id,\n",
    "                                                           client_secret))"
   ]
  },
  {
   "cell_type": "code",
   "execution_count": 383,
   "metadata": {},
   "outputs": [],
   "source": [
    "url= 'https://www.billboard.com/charts/hot-100'"
   ]
  },
  {
   "cell_type": "code",
   "execution_count": 384,
   "metadata": {},
   "outputs": [
    {
     "data": {
      "text/plain": [
       "200"
      ]
     },
     "execution_count": 384,
     "metadata": {},
     "output_type": "execute_result"
    }
   ],
   "source": [
    "response = requests.get(url)\n",
    "response.status_code"
   ]
  },
  {
   "cell_type": "code",
   "execution_count": 385,
   "metadata": {},
   "outputs": [],
   "source": [
    "soup = BeautifulSoup(response.content, \"html.parser\")"
   ]
  },
  {
   "cell_type": "markdown",
   "metadata": {},
   "source": [
    "### Scrape the current top 100 songs and their respective artists, and put the information into a pandas dataframe."
   ]
  },
  {
   "cell_type": "code",
   "execution_count": 386,
   "metadata": {},
   "outputs": [],
   "source": [
    "song_100 = []\n",
    "artists_100 = []"
   ]
  },
  {
   "cell_type": "code",
   "execution_count": 387,
   "metadata": {},
   "outputs": [],
   "source": [
    "raw_songs_100= soup.select('.chart-element__information__song')\n",
    "raw_artist_100= soup.select('.chart-element__information__artist') "
   ]
  },
  {
   "cell_type": "code",
   "execution_count": 388,
   "metadata": {},
   "outputs": [],
   "source": [
    "for i in raw_songs_100:\n",
    "    #print(i)\n",
    "    song_100.append(i.get_text())"
   ]
  },
  {
   "cell_type": "code",
   "execution_count": 389,
   "metadata": {},
   "outputs": [],
   "source": [
    "for i in raw_artist_100:\n",
    "    #print(i)\n",
    "    artists_100.append(i.get_text())"
   ]
  },
  {
   "cell_type": "code",
   "execution_count": 390,
   "metadata": {},
   "outputs": [
    {
     "data": {
      "text/plain": [
       "100"
      ]
     },
     "execution_count": 390,
     "metadata": {},
     "output_type": "execute_result"
    },
    {
     "data": {
      "text/plain": [
       "100"
      ]
     },
     "execution_count": 390,
     "metadata": {},
     "output_type": "execute_result"
    }
   ],
   "source": [
    "len(song_100)\n",
    "len(artists_100)"
   ]
  },
  {
   "cell_type": "code",
   "execution_count": 391,
   "metadata": {},
   "outputs": [],
   "source": [
    "top_songs_100= pd.DataFrame({'artist': artists_100, 'song': song_100})"
   ]
  },
  {
   "cell_type": "code",
   "execution_count": 392,
   "metadata": {},
   "outputs": [
    {
     "data": {
      "text/html": [
       "<div>\n",
       "<style scoped>\n",
       "    .dataframe tbody tr th:only-of-type {\n",
       "        vertical-align: middle;\n",
       "    }\n",
       "\n",
       "    .dataframe tbody tr th {\n",
       "        vertical-align: top;\n",
       "    }\n",
       "\n",
       "    .dataframe thead th {\n",
       "        text-align: right;\n",
       "    }\n",
       "</style>\n",
       "<table border=\"1\" class=\"dataframe\">\n",
       "  <thead>\n",
       "    <tr style=\"text-align: right;\">\n",
       "      <th></th>\n",
       "      <th>artist</th>\n",
       "      <th>song</th>\n",
       "    </tr>\n",
       "  </thead>\n",
       "  <tbody>\n",
       "    <tr>\n",
       "      <td>0</td>\n",
       "      <td>Polo G</td>\n",
       "      <td>Rapstar</td>\n",
       "    </tr>\n",
       "    <tr>\n",
       "      <td>1</td>\n",
       "      <td>Silk Sonic (Bruno Mars &amp; Anderson .Paak)</td>\n",
       "      <td>Leave The Door Open</td>\n",
       "    </tr>\n",
       "    <tr>\n",
       "      <td>2</td>\n",
       "      <td>Justin Bieber Featuring Daniel Caesar &amp; Giveon</td>\n",
       "      <td>Peaches</td>\n",
       "    </tr>\n",
       "    <tr>\n",
       "      <td>3</td>\n",
       "      <td>Lil Nas X</td>\n",
       "      <td>Montero (Call Me By Your Name)</td>\n",
       "    </tr>\n",
       "    <tr>\n",
       "      <td>4</td>\n",
       "      <td>Dua Lipa Featuring DaBaby</td>\n",
       "      <td>Levitating</td>\n",
       "    </tr>\n",
       "  </tbody>\n",
       "</table>\n",
       "</div>"
      ],
      "text/plain": [
       "                                           artist  \\\n",
       "0                                          Polo G   \n",
       "1        Silk Sonic (Bruno Mars & Anderson .Paak)   \n",
       "2  Justin Bieber Featuring Daniel Caesar & Giveon   \n",
       "3                                       Lil Nas X   \n",
       "4                       Dua Lipa Featuring DaBaby   \n",
       "\n",
       "                             song  \n",
       "0                         Rapstar  \n",
       "1             Leave The Door Open  \n",
       "2                         Peaches  \n",
       "3  Montero (Call Me By Your Name)  \n",
       "4                      Levitating  "
      ]
     },
     "execution_count": 392,
     "metadata": {},
     "output_type": "execute_result"
    }
   ],
   "source": [
    "top_songs_100.head()"
   ]
  },
  {
   "cell_type": "markdown",
   "metadata": {},
   "source": [
    "in case i wanted multiple outcomes\n",
    "\n",
    "song_1, song_2, song_3= input('Enter 3 songs of your choice : ').split()\n",
    "\n",
    "user_input = user_input(\" Please enter the numbers: \")\n",
    "a, b, c = user_input.split()\n",
    "\n",
    "user_songs = [x for x in input(\"Enter one or multiple songs: \").split()]\n",
    "\n",
    "if user_songs in list(top_songs['song']):\n",
    "    random_song= random.choice(song)\n",
    "    print('Then you might also like these songs: ', random_song, \n",
    "          '\\nFrom the artist: ')\n",
    "else:\n",
    "    print('Try again, check typos')"
   ]
  },
  {
   "cell_type": "code",
   "execution_count": 393,
   "metadata": {
    "scrolled": true
   },
   "outputs": [
    {
     "data": {
      "text/plain": [
       "['rapstar',\n",
       " 'leave the door open',\n",
       " 'peaches',\n",
       " 'montero (call me by your name)',\n",
       " 'levitating',\n",
       " 'save your tears',\n",
       " 'astronaut in the ocean',\n",
       " 'kiss me more',\n",
       " 'up',\n",
       " 'drivers license',\n",
       " 'deja vu',\n",
       " 'solid',\n",
       " 'blinding lights',\n",
       " 'beat box',\n",
       " 'best friend',\n",
       " 'calling my phone',\n",
       " 'what you know bout love',\n",
       " 'ski',\n",
       " 'mood',\n",
       " 'heartbreak anniversary',\n",
       " 'the good ones',\n",
       " 'beautiful mistakes',\n",
       " 'back in blood',\n",
       " 'go crazy',\n",
       " 'you broke me first.',\n",
       " '34+35',\n",
       " \"my ex's best friend\",\n",
       " \"what's next\",\n",
       " 'dakiti',\n",
       " 'therefore i am',\n",
       " 'without you',\n",
       " 'on me',\n",
       " 'positions',\n",
       " \"you're mines still\",\n",
       " 'forever after all',\n",
       " 'wants and needs',\n",
       " 'track star',\n",
       " \"we're good\",\n",
       " 'heat waves',\n",
       " 'for the night',\n",
       " 'hell of a view',\n",
       " 'made for you',\n",
       " 'no more parties',\n",
       " 'good days',\n",
       " 'starting over',\n",
       " 'diamonds dancing',\n",
       " 'goosebumps',\n",
       " 'tombstone',\n",
       " \"breaking up was easy in the 90's\",\n",
       " 'somebody like that',\n",
       " 'streets',\n",
       " \"what's your country song\",\n",
       " 'time today',\n",
       " 'telepatia',\n",
       " 'cry baby',\n",
       " 'hold on',\n",
       " 'street runner',\n",
       " 'just the way',\n",
       " 'proud of you',\n",
       " 'willow',\n",
       " 'damage',\n",
       " 'richer',\n",
       " 'glad you exist',\n",
       " 'la noche de anoche',\n",
       " 'settling down',\n",
       " 'came and saw',\n",
       " 'headshot',\n",
       " 'anyone',\n",
       " 'down to one',\n",
       " 'lady',\n",
       " 'quicksand',\n",
       " 'one too many',\n",
       " 'famous friends',\n",
       " 'gone',\n",
       " 'my head and my heart',\n",
       " 'almost maybes',\n",
       " 'paid the fine',\n",
       " 'the business',\n",
       " \"drunk (and i don't wanna go home)\",\n",
       " 'masterpiece',\n",
       " 'pov',\n",
       " 'long live',\n",
       " 'hellcats & trackhawks',\n",
       " 'follow you',\n",
       " \"momma's house\",\n",
       " 'nobody',\n",
       " 'big gangsta',\n",
       " 'pick up your feelings',\n",
       " 'lil bit',\n",
       " \"mr. perfectly fine (taylor's version) (from the vault)\",\n",
       " 'chasing after you',\n",
       " 'wasted on you',\n",
       " 'run it up',\n",
       " 'arcade',\n",
       " 'you got it',\n",
       " 'go!',\n",
       " 'drankin n smokin',\n",
       " 'monsters',\n",
       " 'slatty',\n",
       " '4 da gang']"
      ]
     },
     "execution_count": 393,
     "metadata": {},
     "output_type": "execute_result"
    }
   ],
   "source": [
    "list(top_songs_100['song'].str.lower())"
   ]
  },
  {
   "cell_type": "code",
   "execution_count": 394,
   "metadata": {},
   "outputs": [],
   "source": [
    "def returning_song():\n",
    "    name_song= str(input('Name your song: '))\n",
    "    \n",
    "    random_song_100= random.choice(song_100)\n",
    "    index_rand_100= top_songs_100[top_songs_100['song']== random_song_100].index[0]\n",
    "    \n",
    "    if name_song.lower() in list(top_songs_100['song'].str.lower()):    \n",
    "        print('This is a hot song\\n',\n",
    "              '\\nYou might also like this songs: ', random_song_100, \n",
    "              '\\nBy the artist: ', top_songs_100['artist'].iloc[index_rand_100])\n",
    "    else:\n",
    "        print('Not a hot song, but i can recommend you one if you like...\\n')\n",
    "        print('Press 1 to continue or 2 to cancel')\n",
    "        \n",
    "        inp_loop= str(input())\n",
    "        if inp_loop== '1':\n",
    "            pass\n",
    "        elif inp_loop== '2':\n",
    "            print('good')\n",
    "        else:\n",
    "            print('Try again')\n",
    "    \n",
    "    "
   ]
  },
  {
   "cell_type": "raw",
   "metadata": {},
   "source": [
    "returning_song()"
   ]
  },
  {
   "cell_type": "code",
   "execution_count": null,
   "metadata": {},
   "outputs": [],
   "source": []
  },
  {
   "cell_type": "markdown",
   "metadata": {},
   "source": [
    "### Looking for several rock playlists"
   ]
  },
  {
   "cell_type": "raw",
   "metadata": {},
   "source": [
    "spotify:playlist:2s2gfD3BjU5hN38MMe7oot\n",
    "Playlist name: Rock & Metal, the longest Playlist (Stage 18)"
   ]
  },
  {
   "cell_type": "code",
   "execution_count": null,
   "metadata": {},
   "outputs": [],
   "source": []
  },
  {
   "cell_type": "code",
   "execution_count": 395,
   "metadata": {},
   "outputs": [],
   "source": [
    "playlist = sp.user_playlist_tracks(\"spotify\", \"2s2gfD3BjU5hN38MMe7oot\")"
   ]
  },
  {
   "cell_type": "raw",
   "metadata": {},
   "source": [
    "playlist.keys()\n",
    "playlist['items'][0].keys()\n",
    "playlist['items'][0]['track'].keys()\n",
    "playlist['total']"
   ]
  },
  {
   "cell_type": "raw",
   "metadata": {},
   "source": [
    "playlist['items'][0]['track']['name']\n",
    "\n",
    "playlist['items'][0]['track']['artists'][0]['name']\n",
    "\n",
    "playlist['items'][0]['track']['album']['name']\n",
    "\n",
    "playlist['items'][0].keys()\n",
    "\n",
    "playlist['items'][0]['track'].keys()\n",
    "\n",
    "playlist['items'][0]['track']['album'].keys()\n",
    "\n",
    "playlist['items'][0]['track']['uri'].split(':')[2]\n",
    "\n",
    "playlist['items'][0]['track']['artists'][0]['name'] #artist name\n",
    "\n",
    "playlist['items'][0]['track']['name'] # name of the song\n",
    "\n",
    "playlist['items'][0]['track']['album']['name'] #album name\n",
    "\n",
    "[(track[\"name\"],artist[\"name\"]) for artist in track[\"artists\"]]\n",
    "\n",
    "playlist['next']\n",
    "\n",
    "next_playlist= sp.next(playlist)\n",
    "\n",
    "next_playlist['items'][0].keys()\n",
    "\n",
    "playlist['next']\n",
    "\n",
    "sp.audio_features(playlist['items'][0]['track']['uri'])"
   ]
  },
  {
   "cell_type": "code",
   "execution_count": 396,
   "metadata": {},
   "outputs": [],
   "source": [
    "artist_name= []\n",
    "song_name= []\n",
    "album_name= []\n",
    "song_uri= []\n",
    "audio_features= []"
   ]
  },
  {
   "cell_type": "raw",
   "metadata": {},
   "source": [
    "for i in range(10):\n",
    "    print (i)\n",
    "    wait= randint(1,5)\n",
    "    sleep= wait\n",
    "    print('Lest sleep for'+ str(sleep))\n",
    "    "
   ]
  },
  {
   "cell_type": "code",
   "execution_count": 401,
   "metadata": {},
   "outputs": [],
   "source": [
    "start = timeit.default_timer()\n",
    "def get_playlist_info(playlist_id):\n",
    "    playlist= sp.next(playlist)\n",
    "\n",
    "    while playlist['next']!= None:\n",
    "        #chunks= []\n",
    "        playlist= sp.next(playlist)\n",
    "\n",
    "        for i in range(len(playlist['items'])):\n",
    "            artist_name.append(playlist['items'][i]['track']['artists'][0]['name'])\n",
    "            song_name.append(playlist['items'][i]['track']['name'])\n",
    "            album_name.append(playlist['items'][i]['track']['album']['name'])\n",
    "            song_uri.append(playlist['items'][i]['track']['uri'].split(':')[2])\n",
    "            audio_features.append(sp.audio_features(playlist['items'][i]['track']['uri']))\n",
    "\n",
    "        #sleep(2)\n",
    "\n",
    "\n",
    "\n",
    "\n",
    "    rock_playlist= pd.DataFrame({'artist': artist_name, 'song': song_name, 'uri': song_uri})\n",
    "    return rock_playlist\n",
    "\n",
    "    stop = timeit.default_timer()\n",
    "    print ('Time to run this code (in seconds):', stop - start)"
   ]
  },
  {
   "cell_type": "raw",
   "metadata": {},
   "source": [
    "len(artist_name)\n",
    "len(song_name)\n",
    "len(album_name)\n",
    "len(song_uri)\n",
    "len(audio_features)"
   ]
  },
  {
   "cell_type": "raw",
   "metadata": {},
   "source": [
    "rock_playlist= pd.DataFrame({'artist': artist_name, 'song': song_name, 'uri': song_uri})"
   ]
  },
  {
   "cell_type": "code",
   "execution_count": 304,
   "metadata": {},
   "outputs": [],
   "source": [
    "# how to do this easier way\n",
    "rock_audio_features= pd.DataFrame(audio_features)\n",
    "rock_audio_features[0].apply(pd.Series)"
   ]
  },
  {
   "cell_type": "raw",
   "metadata": {},
   "source": [
    "rock_playlist.head(3)\n",
    "len(rock_playlist)\n",
    "rock_playlist.isnull().sum()\n",
    "len(rock_playlist.drop_duplicates())"
   ]
  },
  {
   "cell_type": "raw",
   "metadata": {},
   "source": [
    "rock_playlist[rock_playlist['artist']== 'Puddle Of Mudd']"
   ]
  },
  {
   "cell_type": "raw",
   "metadata": {},
   "source": [
    "rock_playlist[rock_playlist.duplicated()].drop_duplicates()"
   ]
  },
  {
   "cell_type": "raw",
   "metadata": {},
   "source": [
    "g=rock_playlist.groupby('uri')['artist'].value_counts()\n",
    "g.where(g>1).dropna()"
   ]
  },
  {
   "cell_type": "code",
   "execution_count": 367,
   "metadata": {},
   "outputs": [],
   "source": [
    "lol= pd.DataFrame(rock_audio_features)"
   ]
  },
  {
   "cell_type": "raw",
   "metadata": {},
   "source": [
    "lol[0].apply(pd.Series)"
   ]
  },
  {
   "cell_type": "code",
   "execution_count": null,
   "metadata": {},
   "outputs": [],
   "source": []
  },
  {
   "cell_type": "code",
   "execution_count": null,
   "metadata": {},
   "outputs": [],
   "source": []
  },
  {
   "cell_type": "code",
   "execution_count": null,
   "metadata": {},
   "outputs": [],
   "source": []
  },
  {
   "cell_type": "code",
   "execution_count": null,
   "metadata": {},
   "outputs": [],
   "source": []
  },
  {
   "cell_type": "code",
   "execution_count": null,
   "metadata": {},
   "outputs": [],
   "source": []
  },
  {
   "cell_type": "code",
   "execution_count": null,
   "metadata": {},
   "outputs": [],
   "source": []
  },
  {
   "cell_type": "code",
   "execution_count": null,
   "metadata": {},
   "outputs": [],
   "source": []
  },
  {
   "cell_type": "code",
   "execution_count": null,
   "metadata": {},
   "outputs": [],
   "source": []
  },
  {
   "cell_type": "code",
   "execution_count": null,
   "metadata": {},
   "outputs": [],
   "source": []
  },
  {
   "cell_type": "code",
   "execution_count": null,
   "metadata": {},
   "outputs": [],
   "source": []
  },
  {
   "cell_type": "raw",
   "metadata": {},
   "source": [
    "def playlist_tracks(sp, playlists_id): \n",
    "    offset = 0\n",
    "    tracks = []\n",
    "\n",
    "    while True:\n",
    "            results = sp.playlist_tracks(playlists_id)\n",
    "            tracks += content['items']\n",
    "        \n",
    "            if results['next'] != None:\n",
    "                offset += 100\n",
    "            else:\n",
    "                break\n",
    "    \n",
    "    track_id = []\n",
    "    track_name = []\n",
    "    \n",
    "    for track in tracks:\n",
    "        track_id.append(track['track']['id'])\n",
    "        track_name.append(track['track']['name'])\n",
    "    \n",
    "# Create the final df\n",
    "    df_playlist_tracks = pd.DataFrame({\"track_id\":track_id, \"track_name\": track_name})\n",
    "    return df_playlists_tracks"
   ]
  }
 ],
 "metadata": {
  "kernelspec": {
   "display_name": "Python 3",
   "language": "python",
   "name": "python3"
  },
  "language_info": {
   "codemirror_mode": {
    "name": "ipython",
    "version": 3
   },
   "file_extension": ".py",
   "mimetype": "text/x-python",
   "name": "python",
   "nbconvert_exporter": "python",
   "pygments_lexer": "ipython3",
   "version": "3.7.4"
  }
 },
 "nbformat": 4,
 "nbformat_minor": 2
}
