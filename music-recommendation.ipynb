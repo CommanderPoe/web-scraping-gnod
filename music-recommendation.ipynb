{
 "cells": [
  {
   "cell_type": "code",
   "execution_count": 237,
   "metadata": {},
   "outputs": [],
   "source": [
    "# Priting over 1 line of code within the same cell\n",
    "\n",
    "from IPython.core.interactiveshell import InteractiveShell\n",
    "InteractiveShell.ast_node_interactivity = \"all\""
   ]
  },
  {
   "cell_type": "code",
   "execution_count": 238,
   "metadata": {},
   "outputs": [],
   "source": [
    "# LIBRARIES\n",
    "\n",
    "# Must\n",
    "import os\n",
    "import pandas as pd\n",
    "import numpy as np\n",
    "#import datetime as dt\n",
    "\n",
    "# Visualization\n",
    "#import missingno\n",
    "#import matplotlib.pyplot as plt\n",
    "#import seaborn as sns\n",
    "\n",
    "# Soup\n",
    "from bs4 import BeautifulSoup\n",
    "import requests\n",
    "\n",
    "# REGEX\n",
    "#import re\n",
    "\n",
    "# Math\n",
    "#import math\n",
    "#from scipy import stats\n",
    "#from scipy.stats import shapiro\n",
    "#import scipy.stats as st\n",
    "\n",
    "# Machine Learning\n",
    "#from sklearn.model_selection import train_test_split\n",
    "#from sklearn.preprocessing import MinMaxScaler\n",
    "#from sklearn.preprocessing import PowerTransformer\n",
    "#from sklearn.preprocessing import StandardScaler\n",
    "#from sklearn.preprocessing import OneHotEncoder\n",
    "#from sklearn.preprocessing import LabelEncoder\n",
    "#from sklearn import linear_model\n",
    "#from sklearn.metrics import r2_score\n",
    "#from sklearn.metrics import mean_squared_error\n",
    "#from sklearn.neighbors import KNeighborsRegressor\n",
    "#from sklearn.linear_model import LogisticRegression\n",
    "#from sklearn.neural_network import MLPRegressor\n",
    "#from sklearn.datasets import make_regression\n",
    "#from sklearn.ensemble import RandomForestRegressor\n",
    "#from sklearn.ensemble import GradientBoostingRegressor\n",
    "#from sklearn.metrics import precision_score\n",
    "#from sklearn.metrics import recall_score\n",
    "#from sklearn.metrics import f1_score\n",
    "\n",
    "# Extra\n",
    "import warnings\n",
    "warnings.filterwarnings('ignore')\n",
    "#import pickle\n",
    "import random"
   ]
  },
  {
   "cell_type": "code",
   "execution_count": 239,
   "metadata": {},
   "outputs": [],
   "source": [
    "url= 'https://www.billboard.com/charts/hot-100'"
   ]
  },
  {
   "cell_type": "code",
   "execution_count": 240,
   "metadata": {},
   "outputs": [
    {
     "data": {
      "text/plain": [
       "200"
      ]
     },
     "execution_count": 240,
     "metadata": {},
     "output_type": "execute_result"
    }
   ],
   "source": [
    "response = requests.get(url)\n",
    "response.status_code"
   ]
  },
  {
   "cell_type": "code",
   "execution_count": 241,
   "metadata": {},
   "outputs": [],
   "source": [
    "soup = BeautifulSoup(response.content, \"html.parser\")"
   ]
  },
  {
   "cell_type": "markdown",
   "metadata": {},
   "source": [
    "### Scrape the current top 100 songs and their respective artists, and put the information into a pandas dataframe."
   ]
  },
  {
   "cell_type": "code",
   "execution_count": 242,
   "metadata": {},
   "outputs": [],
   "source": [
    "song = []\n",
    "artist = []"
   ]
  },
  {
   "cell_type": "code",
   "execution_count": 243,
   "metadata": {},
   "outputs": [],
   "source": [
    "raw_songs= soup.select('.chart-element__information__song')\n",
    "raw_artist= soup.select('.chart-element__information__artist') "
   ]
  },
  {
   "cell_type": "code",
   "execution_count": 244,
   "metadata": {},
   "outputs": [],
   "source": [
    "for i in raw_songs:\n",
    "    #print(i)\n",
    "    song.append(i.get_text())"
   ]
  },
  {
   "cell_type": "code",
   "execution_count": 245,
   "metadata": {},
   "outputs": [],
   "source": [
    "for i in raw_artist:\n",
    "    #print(i)\n",
    "    artist.append(i.get_text())"
   ]
  },
  {
   "cell_type": "code",
   "execution_count": 246,
   "metadata": {},
   "outputs": [
    {
     "data": {
      "text/plain": [
       "100"
      ]
     },
     "execution_count": 246,
     "metadata": {},
     "output_type": "execute_result"
    },
    {
     "data": {
      "text/plain": [
       "100"
      ]
     },
     "execution_count": 246,
     "metadata": {},
     "output_type": "execute_result"
    }
   ],
   "source": [
    "len(song)\n",
    "len(artist)"
   ]
  },
  {
   "cell_type": "code",
   "execution_count": 247,
   "metadata": {},
   "outputs": [],
   "source": [
    "top_songs= pd.DataFrame({'artist': artist, 'song': song})"
   ]
  },
  {
   "cell_type": "code",
   "execution_count": 249,
   "metadata": {},
   "outputs": [
    {
     "data": {
      "text/html": [
       "<div>\n",
       "<style scoped>\n",
       "    .dataframe tbody tr th:only-of-type {\n",
       "        vertical-align: middle;\n",
       "    }\n",
       "\n",
       "    .dataframe tbody tr th {\n",
       "        vertical-align: top;\n",
       "    }\n",
       "\n",
       "    .dataframe thead th {\n",
       "        text-align: right;\n",
       "    }\n",
       "</style>\n",
       "<table border=\"1\" class=\"dataframe\">\n",
       "  <thead>\n",
       "    <tr style=\"text-align: right;\">\n",
       "      <th></th>\n",
       "      <th>artist</th>\n",
       "      <th>song</th>\n",
       "    </tr>\n",
       "  </thead>\n",
       "  <tbody>\n",
       "    <tr>\n",
       "      <td>0</td>\n",
       "      <td>Polo G</td>\n",
       "      <td>Rapstar</td>\n",
       "    </tr>\n",
       "    <tr>\n",
       "      <td>1</td>\n",
       "      <td>Lil Nas X</td>\n",
       "      <td>Montero (Call Me By Your Name)</td>\n",
       "    </tr>\n",
       "    <tr>\n",
       "      <td>2</td>\n",
       "      <td>Silk Sonic (Bruno Mars &amp; Anderson .Paak)</td>\n",
       "      <td>Leave The Door Open</td>\n",
       "    </tr>\n",
       "    <tr>\n",
       "      <td>3</td>\n",
       "      <td>Justin Bieber Featuring Daniel Caesar &amp; Giveon</td>\n",
       "      <td>Peaches</td>\n",
       "    </tr>\n",
       "    <tr>\n",
       "      <td>4</td>\n",
       "      <td>The Weeknd</td>\n",
       "      <td>Save Your Tears</td>\n",
       "    </tr>\n",
       "  </tbody>\n",
       "</table>\n",
       "</div>"
      ],
      "text/plain": [
       "                                           artist  \\\n",
       "0                                          Polo G   \n",
       "1                                       Lil Nas X   \n",
       "2        Silk Sonic (Bruno Mars & Anderson .Paak)   \n",
       "3  Justin Bieber Featuring Daniel Caesar & Giveon   \n",
       "4                                      The Weeknd   \n",
       "\n",
       "                             song  \n",
       "0                         Rapstar  \n",
       "1  Montero (Call Me By Your Name)  \n",
       "2             Leave The Door Open  \n",
       "3                         Peaches  \n",
       "4                 Save Your Tears  "
      ]
     },
     "execution_count": 249,
     "metadata": {},
     "output_type": "execute_result"
    }
   ],
   "source": [
    "top_songs.head()"
   ]
  },
  {
   "cell_type": "markdown",
   "metadata": {},
   "source": [
    "in case i wanted multiple outcomes\n",
    "\n",
    "song_1, song_2, song_3= input('Enter 3 songs of your choice : ').split()\n",
    "\n",
    "user_input = user_input(\" Please enter the numbers: \")\n",
    "a, b, c = user_input.split()\n",
    "\n",
    "user_songs = [x for x in input(\"Enter one or multiple songs: \").split()]\n",
    "\n",
    "if user_songs in list(top_songs['song']):\n",
    "    random_song= random.choice(song)\n",
    "    print('Then you might also like these songs: ', random_song, \n",
    "          '\\nFrom the artist: ')\n",
    "else:\n",
    "    print('Try again, check typos')"
   ]
  },
  {
   "cell_type": "code",
   "execution_count": 293,
   "metadata": {},
   "outputs": [
    {
     "data": {
      "text/plain": [
       "'Big Gangsta'"
      ]
     },
     "execution_count": 293,
     "metadata": {},
     "output_type": "execute_result"
    }
   ],
   "source": [
    "random_song"
   ]
  },
  {
   "cell_type": "code",
   "execution_count": 304,
   "metadata": {},
   "outputs": [
    {
     "data": {
      "text/plain": [
       "80"
      ]
     },
     "execution_count": 304,
     "metadata": {},
     "output_type": "execute_result"
    }
   ],
   "source": [
    "top_songs[top_songs['song']== random_song].index[0]"
   ]
  },
  {
   "cell_type": "code",
   "execution_count": 3,
   "metadata": {},
   "outputs": [],
   "source": [
    "def returning_song():\n",
    "    name_song= str(input('Name your song'))\n",
    "    \n",
    "    random_song= random.choice(song)\n",
    "    index_rand= top_songs[top_songs['song']== random_song].index[0]\n",
    "    \n",
    "    if name_song in list(top_songs['song']):    \n",
    "        print('You might also like this songs: ', random_song, \n",
    "              '\\nBy the artist: ', top_songs['artist'].iloc[index_rand])\n",
    "    else:\n",
    "        print('Try again, check typos')\n",
    "    \n",
    "    "
   ]
  },
  {
   "cell_type": "code",
   "execution_count": 4,
   "metadata": {},
   "outputs": [
    {
     "name": "stdout",
     "output_type": "stream",
     "text": [
      "Name your songRapstar\n"
     ]
    },
    {
     "ename": "NameError",
     "evalue": "name 'random' is not defined",
     "output_type": "error",
     "traceback": [
      "\u001b[0;31m---------------------------------------------------------------------------\u001b[0m",
      "\u001b[0;31mNameError\u001b[0m                                 Traceback (most recent call last)",
      "\u001b[0;32m<ipython-input-4-b52674998078>\u001b[0m in \u001b[0;36m<module>\u001b[0;34m\u001b[0m\n\u001b[0;32m----> 1\u001b[0;31m \u001b[0mreturning_song\u001b[0m\u001b[0;34m(\u001b[0m\u001b[0;34m)\u001b[0m\u001b[0;34m\u001b[0m\u001b[0;34m\u001b[0m\u001b[0m\n\u001b[0m",
      "\u001b[0;32m<ipython-input-3-c8ff8a052f34>\u001b[0m in \u001b[0;36mreturning_song\u001b[0;34m()\u001b[0m\n\u001b[1;32m      2\u001b[0m     \u001b[0mname_song\u001b[0m\u001b[0;34m=\u001b[0m \u001b[0mstr\u001b[0m\u001b[0;34m(\u001b[0m\u001b[0minput\u001b[0m\u001b[0;34m(\u001b[0m\u001b[0;34m'Name your song'\u001b[0m\u001b[0;34m)\u001b[0m\u001b[0;34m)\u001b[0m\u001b[0;34m\u001b[0m\u001b[0;34m\u001b[0m\u001b[0m\n\u001b[1;32m      3\u001b[0m \u001b[0;34m\u001b[0m\u001b[0m\n\u001b[0;32m----> 4\u001b[0;31m     \u001b[0mrandom_song\u001b[0m\u001b[0;34m=\u001b[0m \u001b[0mrandom\u001b[0m\u001b[0;34m.\u001b[0m\u001b[0mchoice\u001b[0m\u001b[0;34m(\u001b[0m\u001b[0msong\u001b[0m\u001b[0;34m)\u001b[0m\u001b[0;34m\u001b[0m\u001b[0;34m\u001b[0m\u001b[0m\n\u001b[0m\u001b[1;32m      5\u001b[0m     \u001b[0mindex_rand\u001b[0m\u001b[0;34m=\u001b[0m \u001b[0mtop_songs\u001b[0m\u001b[0;34m[\u001b[0m\u001b[0mtop_songs\u001b[0m\u001b[0;34m[\u001b[0m\u001b[0;34m'song'\u001b[0m\u001b[0;34m]\u001b[0m\u001b[0;34m==\u001b[0m \u001b[0mrandom_song\u001b[0m\u001b[0;34m]\u001b[0m\u001b[0;34m.\u001b[0m\u001b[0mindex\u001b[0m\u001b[0;34m[\u001b[0m\u001b[0;36m0\u001b[0m\u001b[0;34m]\u001b[0m\u001b[0;34m\u001b[0m\u001b[0;34m\u001b[0m\u001b[0m\n\u001b[1;32m      6\u001b[0m \u001b[0;34m\u001b[0m\u001b[0m\n",
      "\u001b[0;31mNameError\u001b[0m: name 'random' is not defined"
     ]
    }
   ],
   "source": [
    "returning_song()"
   ]
  },
  {
   "cell_type": "code",
   "execution_count": null,
   "metadata": {},
   "outputs": [],
   "source": []
  },
  {
   "cell_type": "code",
   "execution_count": null,
   "metadata": {},
   "outputs": [],
   "source": []
  },
  {
   "cell_type": "code",
   "execution_count": null,
   "metadata": {},
   "outputs": [],
   "source": []
  },
  {
   "cell_type": "raw",
   "metadata": {},
   "source": [
    "for i in soup.select('.chart-element__information__artist'):\n",
    "    artist.append(i.get_text())"
   ]
  },
  {
   "cell_type": "raw",
   "metadata": {},
   "source": [
    "soup.select('.chart-element__information__song')[0]\n",
    "#soup.select('.chart-element__information__artist')\n",
    "\n",
    "#soup.select('span.color--primary span.color--secondary')"
   ]
  },
  {
   "cell_type": "raw",
   "metadata": {},
   "source": [
    "soup.select('span.chart-element__information__song')"
   ]
  },
  {
   "cell_type": "raw",
   "metadata": {},
   "source": [
    "soup.select('span.chart-element__information span')[0].get_text()\n",
    "soup.select('span.chart-element__information span')[1].get_text()\n",
    "soup.select('span.chart-element__information')"
   ]
  },
  {
   "cell_type": "raw",
   "metadata": {},
   "source": [
    "chart_250= soup.select('span.chart-element__information span')"
   ]
  },
  {
   "cell_type": "raw",
   "metadata": {},
   "source": [
    "chart_250[4].get_text()"
   ]
  },
  {
   "cell_type": "raw",
   "metadata": {},
   "source": [
    "song = []\n",
    "artist = []\n",
    "\n",
    "top_100= 100\n",
    "\n",
    "for i in range(top_100):\n",
    "    song.append(soup.select('span.chart-element__information span')[0].get_text())\n",
    "    artist.append(soup.select('span.chart-element__information span')[1].get_text())"
   ]
  },
  {
   "cell_type": "raw",
   "metadata": {},
   "source": [
    "title = []\n",
    "dir_stars = []\n",
    "year = []\n",
    "\n",
    "num_iter= len(soup.select('td.titleColumn a'))\n",
    "\n",
    "for i in range(num_iter):\n",
    "    title.append(soup.select('td.titleColumn a')[i].get_text())\n",
    "    dir_stars.append(soup.select('td.titleColumn a')[i]['title'])\n",
    "    year.append(soup.select('td.titleColumn span.secondaryInfo')[i].get_text())"
   ]
  },
  {
   "cell_type": "raw",
   "metadata": {},
   "source": [
    "artist"
   ]
  },
  {
   "cell_type": "raw",
   "metadata": {},
   "source": [
    "for i in chart_250:\n",
    "    print(i[].get_text())"
   ]
  }
 ],
 "metadata": {
  "kernelspec": {
   "display_name": "Python 3",
   "language": "python",
   "name": "python3"
  },
  "language_info": {
   "codemirror_mode": {
    "name": "ipython",
    "version": 3
   },
   "file_extension": ".py",
   "mimetype": "text/x-python",
   "name": "python",
   "nbconvert_exporter": "python",
   "pygments_lexer": "ipython3",
   "version": "3.7.4"
  }
 },
 "nbformat": 4,
 "nbformat_minor": 2
}
